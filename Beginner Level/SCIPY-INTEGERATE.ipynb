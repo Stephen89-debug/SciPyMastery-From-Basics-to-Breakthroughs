{
 "cells": [
  {
   "cell_type": "markdown",
   "metadata": {},
   "source": [
    "### **What is `scipy.integrate`?**\n",
    "\n",
    "In simple words, integration is like calculating the area under a curve, right? Matlab: If you have a function, and you want to find out the total area from one point to another on its curve, you integrate that function.\n",
    "\n",
    "Now, in **SciPy**, we have a module called **`integrate`**, which is *very* useful for solving both simple and complex integration problems. Whether it's single-variable integrals, multi-variable integrals, or solving differential equations—this is the toolkit you need!"
   ]
  },
  {
   "cell_type": "markdown",
   "metadata": {},
   "source": [
    "### **Basic Integration using `quad()`**\n",
    "\n",
    "Let’s start with a simple problem. Suppose you have a function `f(x) = x^2`, and you want to integrate this function between limits, say from 0 to 2. Now, we can use **`quad()`**, which is like a shortcut for **Quadrature**, an integration technique."
   ]
  },
  {
   "cell_type": "code",
   "execution_count": 1,
   "metadata": {},
   "outputs": [
    {
     "name": "stdout",
     "output_type": "stream",
     "text": [
      "Result of the integration: 2.666666666666667\n",
      "Estimated error: 2.960594732333751e-14\n"
     ]
    }
   ],
   "source": [
    "import scipy.integrate as integrate\n",
    "\n",
    "# Define the function\n",
    "def f(x):\n",
    "    return x**2\n",
    "\n",
    "# Perform the integration\n",
    "result, error = integrate.quad(f, 0, 2)\n",
    "\n",
    "print(\"Result of the integration:\", result)\n",
    "print(\"Estimated error:\", error)"
   ]
  },
  {
   "cell_type": "markdown",
   "metadata": {},
   "source": [
    "- `quad()` returns two values: the integral result and the error estimate.\n",
    "- It integrates `f(x)` from `0` to `2`.\n",
    "\n",
    "**Explanation**: Just like in your school where you learned to find the area of rectangles and sum them up to approximate the area under a curve, here SciPy does it smartly for us. The result will be the exact area!"
   ]
  },
  {
   "cell_type": "markdown",
   "metadata": {},
   "source": [
    "### **Double Integration using `dblquad()`**\n",
    "\n",
    "Now suppose you need to calculate a double integral. Don’t worry! You don’t have to do everything by hand—SciPy has your back with **`dblquad()`**. It’s for *two-variable* functions.\n",
    "\n",
    "Let’s say you want to integrate `f(x, y) = x * y` over the ranges `x: [0, 1]` and `y: [0, 1]`."
   ]
  },
  {
   "cell_type": "code",
   "execution_count": 2,
   "metadata": {},
   "outputs": [
    {
     "name": "stdout",
     "output_type": "stream",
     "text": [
      "Result of the double integration: 0.24999999999999997\n",
      "Estimated error: 5.539061329123429e-15\n"
     ]
    }
   ],
   "source": [
    "def f(x, y):\n",
    "    return x * y\n",
    "\n",
    "result, error = integrate.dblquad(f, 0, 1, lambda x: 0, lambda x: 1)\n",
    "\n",
    "print(\"Result of the double integration:\", result)\n",
    "print(\"Estimated error:\", error)"
   ]
  },
  {
   "cell_type": "markdown",
   "metadata": {},
   "source": [
    "- The function `f(x, y)` is integrated over the region where `x` ranges from `0` to `1`, and for each value of `x`, `y` ranges from `0` to `1`.\n",
    "- We use **lambda functions** here to specify the limits for `y` which depend on `x`."
   ]
  },
  {
   "cell_type": "code",
   "execution_count": null,
   "metadata": {},
   "outputs": [],
   "source": []
  }
 ],
 "metadata": {
  "kernelspec": {
   "display_name": "Python 3",
   "language": "python",
   "name": "python3"
  },
  "language_info": {
   "codemirror_mode": {
    "name": "ipython",
    "version": 3
   },
   "file_extension": ".py",
   "mimetype": "text/x-python",
   "name": "python",
   "nbconvert_exporter": "python",
   "pygments_lexer": "ipython3",
   "version": "3.12.5"
  }
 },
 "nbformat": 4,
 "nbformat_minor": 2
}
