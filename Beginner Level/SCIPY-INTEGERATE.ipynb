{
 "cells": [
  {
   "cell_type": "markdown",
   "metadata": {},
   "source": [
    "### **What is `scipy.integrate`?**\n",
    "\n",
    "In simple words, integration is like calculating the area under a curve, right? Matlab: If you have a function, and you want to find out the total area from one point to another on its curve, you integrate that function.\n",
    "\n",
    "Now, in **SciPy**, we have a module called **`integrate`**, which is *very* useful for solving both simple and complex integration problems. Whether it's single-variable integrals, multi-variable integrals, or solving differential equations—this is the toolkit you need!"
   ]
  },
  {
   "cell_type": "markdown",
   "metadata": {},
   "source": [
    "### **Basic Integration using `quad()`**\n",
    "\n",
    "Let’s start with a simple problem. Suppose you have a function `f(x) = x^2`, and you want to integrate this function between limits, say from 0 to 2. Now, we can use **`quad()`**, which is like a shortcut for **Quadrature**, an integration technique."
   ]
  },
  {
   "cell_type": "code",
   "execution_count": 1,
   "metadata": {},
   "outputs": [
    {
     "name": "stdout",
     "output_type": "stream",
     "text": [
      "Result of the integration: 2.666666666666667\n",
      "Estimated error: 2.960594732333751e-14\n"
     ]
    }
   ],
   "source": [
    "import scipy.integrate as integrate\n",
    "\n",
    "# Define the function\n",
    "def f(x):\n",
    "    return x**2\n",
    "\n",
    "# Perform the integration\n",
    "result, error = integrate.quad(f, 0, 2)\n",
    "\n",
    "print(\"Result of the integration:\", result)\n",
    "print(\"Estimated error:\", error)"
   ]
  },
  {
   "cell_type": "code",
   "execution_count": null,
   "metadata": {},
   "outputs": [],
   "source": []
  }
 ],
 "metadata": {
  "kernelspec": {
   "display_name": "Python 3",
   "language": "python",
   "name": "python3"
  },
  "language_info": {
   "codemirror_mode": {
    "name": "ipython",
    "version": 3
   },
   "file_extension": ".py",
   "mimetype": "text/x-python",
   "name": "python",
   "nbconvert_exporter": "python",
   "pygments_lexer": "ipython3",
   "version": "3.12.5"
  }
 },
 "nbformat": 4,
 "nbformat_minor": 2
}
