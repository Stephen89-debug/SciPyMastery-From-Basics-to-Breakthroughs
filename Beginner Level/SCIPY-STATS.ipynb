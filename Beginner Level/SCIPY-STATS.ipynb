{
 "cells": [
  {
   "cell_type": "markdown",
   "metadata": {},
   "source": [
    "## `scipy.stats` 📊✨\n",
    "\n",
    "Imagine you’re a scientist or data enthusiast, sitting with piles of data, and you're thinking, “Yaar, how can I **understand the hidden patterns** or **test hypotheses** with all this data?” Well, that’s exactly where **`scipy.stats`** comes to the rescue! This magical module in SciPy offers you everything you need to analyze, visualize, and make sense of data in the **simplest yet most powerful ways**.\n",
    "\n",
    "In **`scipy.stats`**, you get:\n",
    "1. **Tools to Summarize Data** – Need the average or median? Done! Want to see how much variation or spread your data has? Sorted!\n",
    "2. **Probability Distributions Galore** – You get access to every kind of distribution you can imagine—normal, binomial, Poisson, and more. \n",
    "3. **Hypothesis Testing** – Curious to see if two groups are different? Or if a variable truly affects your outcome? `scipy.stats` is your best friend here.\n",
    "\n",
    "So, in short, whether it’s about **basic statistics** like mean, median, and mode or **advanced tests and distributions**, `scipy.stats` has everything under one roof, making it the go-to for statisticians, data scientists, and even curious learners!\n",
    "\n",
    "**Ready? Chalo, let’s explore `scipy.stats` together—step by step!** 🌟"
   ]
  },
  {
   "cell_type": "markdown",
   "metadata": {},
   "source": [
    "## **Descriptive Statistics** - Data ka \"Trailer\"\n",
    "\n",
    "**Descriptive statistics** are like the first impression of our data. Before going deep, we check things like **average**, **spread**, and **percentiles** to understand the data's basic behavior. Let’s start with a few functions to calculate these:\n",
    "\n",
    "### 1.1 **Mean and Median**\n",
    "\n",
    "- **Mean (average)**: Sum of all values divided by the count. Great for a quick look at central tendency.\n",
    "- **Median**: The middle value when data is sorted. Super helpful when there are extreme values (outliers)."
   ]
  },
  {
   "cell_type": "code",
   "execution_count": 1,
   "metadata": {},
   "outputs": [
    {
     "name": "stdout",
     "output_type": "stream",
     "text": [
      "Mean score: 88.0\n",
      "Median score: 89.5\n"
     ]
    }
   ],
   "source": [
    "from scipy import stats\n",
    "\n",
    "# Imagine we have the following exam scores:\n",
    "scores = [88, 92, 79, 93, 85, 91]\n",
    "\n",
    "# Calculating mean\n",
    "mean_score = stats.tmean(scores)\n",
    "# Calculating median using 50th percentile\n",
    "median_score = stats.scoreatpercentile(scores, 50)\n",
    "\n",
    "print(\"Mean score:\", mean_score)\n",
    "print(\"Median score:\", median_score)"
   ]
  },
  {
   "cell_type": "markdown",
   "metadata": {},
   "source": [
    "tmean() gives us the average score, while scoreatpercentile() lets us find the median by setting it to the 50th percentile. This works even when data has odd values, unlike some simpler functions."
   ]
  },
  {
   "cell_type": "markdown",
   "metadata": {},
   "source": [
    "### **Variance and Standard Deviation**\n",
    "\n",
    "- **Variance**: Measures how spread out the numbers are. A higher variance means data points are more spread from the mean.\n",
    "- **Standard Deviation**: The square root of variance; tells us how much values typically vary from the average."
   ]
  },
  {
   "cell_type": "code",
   "execution_count": 2,
   "metadata": {},
   "outputs": [
    {
     "name": "stdout",
     "output_type": "stream",
     "text": [
      "Variance: 28.0\n",
      "Standard Deviation: 5.291502622129181\n"
     ]
    }
   ],
   "source": [
    "# Calculating variance and standard deviation\n",
    "variance = stats.tvar(scores)\n",
    "std_dev = stats.tstd(scores)\n",
    "\n",
    "print(\"Variance:\", variance)\n",
    "print(\"Standard Deviation:\", std_dev)"
   ]
  },
  {
   "cell_type": "markdown",
   "metadata": {},
   "source": [
    "Here, tvar() calculates variance, and tstd() gives us the standard deviation. The lower the standard deviation, the closer your data points are to the mean, indicating consistency in scores!"
   ]
  },
  {
   "cell_type": "code",
   "execution_count": null,
   "metadata": {},
   "outputs": [],
   "source": []
  }
 ],
 "metadata": {
  "kernelspec": {
   "display_name": "Python 3",
   "language": "python",
   "name": "python3"
  },
  "language_info": {
   "codemirror_mode": {
    "name": "ipython",
    "version": 3
   },
   "file_extension": ".py",
   "mimetype": "text/x-python",
   "name": "python",
   "nbconvert_exporter": "python",
   "pygments_lexer": "ipython3",
   "version": "3.12.5"
  }
 },
 "nbformat": 4,
 "nbformat_minor": 2
}
