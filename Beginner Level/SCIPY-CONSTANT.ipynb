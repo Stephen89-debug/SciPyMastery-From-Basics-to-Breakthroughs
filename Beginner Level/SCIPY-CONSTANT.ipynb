{
 "cells": [
  {
   "cell_type": "markdown",
   "metadata": {},
   "source": [
    "## SCIPY CONSTANT"
   ]
  },
  {
   "cell_type": "markdown",
   "metadata": {},
   "source": [
    "\n",
    "### Physical Constant \n",
    "In **`scipy.constants`**, there are numerous physical constants that are crucial for scientific, engineering, and physics applications. Below, I will walk you through the different physical constants provided by SciPy, along with techniques to explore, convert, and search for these constants.\n",
    "\n",
    "---\n",
    "\n",
    "### **1. Basic Constants**\n",
    "These constants represent some of the most fundamental values in science:\n",
    "\n",
    "- **Speed of Light (`c`)**: `scipy.constants.c`  \n",
    "  The speed of light in vacuum (m/s).\n",
    "\n",
    "- **Gravitational Constant (`G`)**: `scipy.constants.G`  \n",
    "  The universal gravitational constant (m³/kg/s²).\n",
    "\n",
    "- **Planck's Constant (`h`)**: `scipy.constants.h`  \n",
    "  Used in quantum mechanics to relate energy and frequency (J·s).\n",
    "\n",
    "- **Elementary Charge (`e`)**: `scipy.constants.e`  \n",
    "  The electric charge of one electron (Coulombs).\n",
    "\n",
    "- **Avogadro's Number (`N_A`)**: `scipy.constants.Avogadro`  \n",
    "  The number of atoms or molecules in one mole.\n",
    "\n",
    "---\n",
    "\n",
    "### **2. Derived Constants**\n",
    "These constants are derived from more fundamental constants:\n",
    "\n",
    "- **Reduced Planck Constant (`ħ`)**: `scipy.constants.hbar`  \n",
    "  Planck constant divided by 2π.\n",
    "\n",
    "- **Fine-structure Constant (`α`)**: `scipy.constants.alpha`  \n",
    "  Dimensionless constant characterizing the strength of electromagnetic interaction.\n",
    "\n",
    "- **Boltzmann Constant (`k_B`)**: `scipy.constants.Boltzmann`  \n",
    "  Relates temperature to energy (J/K).\n",
    "\n",
    "---\n",
    "\n",
    "### **3. Electromagnetic Constants**\n",
    "These constants relate to electromagnetic phenomena:\n",
    "\n",
    "- **Magnetic Constant (`μ₀`)**: `scipy.constants.mu_0`  \n",
    "  The permeability of free space (N/A²).\n",
    "\n",
    "- **Electric Constant (`ε₀`)**: `scipy.constants.epsilon_0`  \n",
    "  The permittivity of free space (F/m).\n",
    "\n",
    "- **Faraday Constant (`F`)**: `scipy.constants.Faraday`  \n",
    "  The charge of one mole of electrons (C/mol).\n",
    "\n",
    "---\n",
    "\n",
    "### **4. Atomic and Nuclear Constants**\n",
    "Important in atomic and nuclear physics:\n",
    "\n",
    "- **Electron Mass (`m_e`)**: `scipy.constants.electron_mass`  \n",
    "  The mass of an electron (kg).\n",
    "\n",
    "- **Proton Mass (`m_p`)**: `scipy.constants.proton_mass`  \n",
    "  The mass of a proton (kg).\n",
    "\n",
    "- **Neutron Mass (`m_n`)**: `scipy.constants.neutron_mass`  \n",
    "  The mass of a neutron (kg).\n",
    "\n",
    "- **Atomic Mass Unit (`u`)**: `scipy.constants.atomic_mass`  \n",
    "  The unified atomic mass constant (kg).\n",
    "\n",
    "---\n",
    "\n",
    "### **5. Constants for Energy**\n",
    "These constants relate to energy units and their conversions:\n",
    "\n",
    "- **Electron Volt (`eV`)**: `scipy.constants.eV`  \n",
    "  Energy gained by an electron moving through 1 volt of potential difference.\n",
    "\n",
    "- **Joule (`J`)**: `scipy.constants.joule`  \n",
    "  SI unit of energy (kg·m²/s²).\n",
    "\n",
    "- **Calorie (`cal`)**: `scipy.constants.calorie`  \n",
    "  Energy required to raise the temperature of 1 gram of water by 1 degree Celsius.\n",
    "\n",
    "---\n",
    "\n",
    "### **6. Time and Frequency Constants**\n",
    "These constants relate to time and frequency conversions:\n",
    "\n",
    "- **Minute**: `scipy.constants.minute`  \n",
    "  The length of one minute in seconds (60 seconds).\n",
    "\n",
    "- **Hour**: `scipy.constants.hour`  \n",
    "  The length of one hour in seconds (3600 seconds).\n",
    "\n",
    "- **Day**: `scipy.constants.day`  \n",
    "  The length of one day in seconds (86400 seconds).\n",
    "\n",
    "- **Frequency Units**:\n",
    "  - **Hertz (`Hz`)**: `scipy.constants.hertz`  \n",
    "    SI unit for frequency (1/s).\n",
    "  \n",
    "---\n",
    "\n",
    "### **7. Distance and Length Constants**\n",
    "These constants deal with units of distance and length:\n",
    "\n",
    "- **Angstrom (`Å`)**: `scipy.constants.angstrom`  \n",
    "  A unit of length, equal to 10⁻¹⁰ meters.\n",
    "\n",
    "- **Light Year**: `scipy.constants.light_year`  \n",
    "  The distance light travels in one year (m).\n",
    "\n",
    "- **Astronomical Unit (AU)**: `scipy.constants.astronomical_unit`  \n",
    "  Mean distance between the Earth and the Sun (m).\n",
    "\n",
    "- **Mile**: `scipy.constants.mile`  \n",
    "  One mile in meters.\n",
    "\n",
    "- **Parsec**: `scipy.constants.parsec`  \n",
    "  Unit of length used to measure large distances to astronomical objects.\n",
    "\n",
    "---\n",
    "\n",
    "### **8. Mass and Weight Constants**\n",
    "These constants relate to mass and weight:\n",
    "\n",
    "- **Gram**: `scipy.constants.gram`  \n",
    "  One gram in kilograms.\n",
    "\n",
    "- **Atomic Mass Unit (`amu`)**: `scipy.constants.u`  \n",
    "  Standard unit for measuring atomic mass.\n",
    "\n",
    "- **Pound**: `scipy.constants.pound`  \n",
    "  One pound in kilograms.\n",
    "\n",
    "- **Metric Ton**: `scipy.constants.metric_ton`  \n",
    "  One metric ton in kilograms.\n",
    "\n",
    "---\n",
    "\n",
    "### **9. Force and Pressure Constants**\n",
    "These constants help in calculating force and pressure:\n",
    "\n",
    "- **Newton (`N`)**: `scipy.constants.newton`  \n",
    "  The SI unit of force (kg·m/s²).\n",
    "\n",
    "- **Pascal (`Pa`)**: `scipy.constants.pascal`  \n",
    "  The SI unit of pressure (N/m²).\n",
    "\n",
    "- **Atmosphere (`atm`)**: `scipy.constants.atm`  \n",
    "  Standard atmospheric pressure.\n",
    "\n",
    "---\n",
    "\n",
    "### **10. Radiation and Light Constants**\n",
    "These constants are related to light and radiation:\n",
    "\n",
    "- **Stefan-Boltzmann Constant (`σ`)**: `scipy.constants.Stefan_Boltzmann`  \n",
    "  Describes the power radiated from a black body.\n",
    "\n",
    "- **Photon Energy**: `scipy.constants.photon`  \n",
    "  The energy of a photon.\n",
    "\n",
    "---\n",
    "\n",
    "### **11. Angle and Trigonometry Constants**\n",
    "These constants deal with angles and conversions:\n",
    "\n",
    "- **Degree (`°`)**: `scipy.constants.degree`  \n",
    "  Conversion from degrees to radians.\n",
    "\n",
    "- **Radian (`rad`)**: `scipy.constants.radian`  \n",
    "  Conversion from radians to degrees.\n",
    "\n",
    "---\n",
    "\n",
    "### **12. Miscellaneous Constants**\n",
    "These are additional constants that find use in various fields:\n",
    "\n",
    "- **Avogadro Number (`N_A`)**: `scipy.constants.Avogadro`  \n",
    "  The number of atoms/molecules in one mole.\n",
    "\n",
    "- **Golden Ratio (`ϕ`)**: `scipy.constants.golden`  \n",
    "  The golden ratio, often seen in mathematics and art.\n",
    "\n",
    "---\n"
   ]
  },
  {
   "cell_type": "markdown",
   "metadata": {},
   "source": [
    "When working with scientific and engineering applications, precision and accuracy are crucial, especially when dealing with constants. SciPy not only provides the values of physical constants but also includes their uncertainties. This allows you to maintain high accuracy in your calculations, especially in fields like quantum mechanics, astrophysics, or precision engineering where even slight deviations in constants can lead to large errors in results."
   ]
  },
  {
   "cell_type": "markdown",
   "metadata": {},
   "source": [
    "## Techniques to Explore, Convert, and Search for Constants\n",
    "\n",
    "### **1. Exploring Constants**\n",
    "To explore constants in SciPy, you can use the `dir()` function:\n",
    "\n",
    "```python\n",
    "import scipy.constants\n",
    "print(dir(scipy.constants))\n",
    "```\n",
    "This will list all available constants in the module.\n",
    "\n",
    "### **2. Accessing Specific Constants**\n",
    "You can access individual constants using their names:\n",
    "\n",
    "```python\n",
    "from scipy.constants import c, G, h\n",
    "print(\"Speed of light:\", c)\n",
    "print(\"Gravitational constant:\", G)\n",
    "print(\"Planck constant:\", h)\n",
    "```\n",
    "\n",
    "### **3. Unit Conversions**\n",
    "SciPy provides constants to easily convert between units:\n",
    "\n",
    "```python\n",
    "from scipy.constants import minute, hour, day\n",
    "print(\"Minutes to seconds:\", minute)\n",
    "print(\"Hours to seconds:\", hour)\n",
    "print(\"Days to seconds:\", day)\n",
    "```\n",
    "\n",
    "### **4. Searching for Constants**\n",
    "You can retrieve more information about constants (including their unit and uncertainty) using:\n",
    "\n",
    "```python\n",
    "from scipy.constants import physical_constants\n",
    "print(physical_constants['speed of light in vacuum'])\n",
    "```\n",
    "\n",
    "This returns a tuple with the value, unit, and uncertainty of the constant.\n",
    "\n",
    "### **5. Custom Conversion Functions**\n",
    "You can create custom functions using constants for unit conversions:\n",
    "\n",
    "```python\n",
    "from scipy.constants import mile, kilometer\n",
    "def miles_to_kilometers(miles):\n",
    "    return miles * mile / kilometer\n",
    "```\n",
    "\n",
    "### **6. Working with `physical_constants` Dictionary**\n",
    "Explore `physical_constants` to search for any physical constant by its name:\n",
    "\n",
    "```python\n",
    "from scipy.constants import physical_constants\n",
    "print(physical_constants['Planck constant'])\n",
    "```\n",
    "\n",
    "### **7. Precision and Accuracy**\n",
    "SciPy provides constants with their uncertainties, allowing for high-precision calculations in scientific applications."
   ]
  },
  {
   "cell_type": "markdown",
   "metadata": {},
   "source": [
    "When working with scientific and engineering applications, precision and accuracy are crucial, especially when dealing with constants. SciPy not only provides the values of physical constants but also includes their uncertainties. This allows you to maintain high accuracy in your calculations, especially in fields like quantum mechanics, astrophysics, or precision engineering where even slight deviations in constants can lead to large errors in results."
   ]
  },
  {
   "cell_type": "markdown",
   "metadata": {},
   "source": [
    "# Lets Prectise Some Questions "
   ]
  },
  {
   "cell_type": "markdown",
   "metadata": {},
   "source": [
    "#### Basic Access Of Constants "
   ]
  },
  {
   "cell_type": "markdown",
   "metadata": {},
   "source": [
    "Write a program to access the value of the speed of light constant using `scipy.constants`"
   ]
  },
  {
   "cell_type": "code",
   "execution_count": 64,
   "metadata": {},
   "outputs": [
    {
     "name": "stdout",
     "output_type": "stream",
     "text": [
      "299792458.0\n"
     ]
    }
   ],
   "source": [
    "from scipy.constants import c \n",
    "print(c)"
   ]
  },
  {
   "cell_type": "markdown",
   "metadata": {},
   "source": [
    "#### Unit Conversiuon "
   ]
  },
  {
   "cell_type": "markdown",
   "metadata": {},
   "source": [
    "Using `scipy.constants`, convert the **speed of light** from meters per second (m/s) to kilometers per hour (km/h)."
   ]
  },
  {
   "cell_type": "code",
   "execution_count": 65,
   "metadata": {},
   "outputs": [
    {
     "name": "stdout",
     "output_type": "stream",
     "text": [
      "1079252848.8\n"
     ]
    }
   ],
   "source": [
    "from scipy.constants import c \n",
    "speed_kmh= c*3.6\n",
    "print(speed_kmh)"
   ]
  },
  {
   "cell_type": "markdown",
   "metadata": {},
   "source": [
    "#### Gravitational Constants "
   ]
  },
  {
   "cell_type": "markdown",
   "metadata": {},
   "source": [
    "Write a program to access the gravitational constant and display its value along with its unit."
   ]
  },
  {
   "cell_type": "code",
   "execution_count": 1,
   "metadata": {},
   "outputs": [
    {
     "name": "stdout",
     "output_type": "stream",
     "text": [
      "9.80665\n"
     ]
    }
   ],
   "source": [
    "from scipy.constants import g\n",
    "print(g)"
   ]
  },
  {
   "cell_type": "markdown",
   "metadata": {},
   "source": [
    "#### Planck's Constant**\n",
    "\n",
    "Access the value of **Planck’s constant** using `scipy.constants`. Print the constant's value, unit, and uncertainty."
   ]
  },
  {
   "cell_type": "code",
   "execution_count": 2,
   "metadata": {},
   "outputs": [
    {
     "name": "stdout",
     "output_type": "stream",
     "text": [
      "(6.62607015e-34, 'J Hz^-1', 0.0)\n"
     ]
    }
   ],
   "source": [
    "from scipy.constants import physical_constants\n",
    "planck_constant = physical_constants['Planck constant']\n",
    "print(planck_constant)"
   ]
  },
  {
   "cell_type": "markdown",
   "metadata": {},
   "source": [
    "### Energy Conversion**\n",
    "\n",
    "Convert **1 electron volt (eV)** to joules (J) using the constant provided by `scipy.constants`."
   ]
  },
  {
   "cell_type": "code",
   "execution_count": 3,
   "metadata": {},
   "outputs": [
    {
     "name": "stdout",
     "output_type": "stream",
     "text": [
      "1.602176634e-19\n"
     ]
    }
   ],
   "source": [
    "from scipy.constants import electron_volt\n",
    "energy_joules = electron_volt\n",
    "print(energy_joules)"
   ]
  },
  {
   "cell_type": "markdown",
   "metadata": {},
   "source": [
    "### **Fine-Structure Constant**\n",
    "\n",
    "Write a code to fetch the value of the **fine-structure constant** and explain its significance in quantum mechanics."
   ]
  },
  {
   "cell_type": "code",
   "execution_count": 4,
   "metadata": {},
   "outputs": [
    {
     "name": "stdout",
     "output_type": "stream",
     "text": [
      "0.0072973525693\n"
     ]
    }
   ],
   "source": [
    "from scipy.constants import alpha\n",
    "print(alpha)"
   ]
  },
  {
   "cell_type": "markdown",
   "metadata": {},
   "source": [
    "### **Avogadro's Number**\n",
    "\n",
    "Access **Avogadro’s number** and print its value. Explain its use in chemistry for mole calculations."
   ]
  },
  {
   "cell_type": "code",
   "execution_count": 5,
   "metadata": {},
   "outputs": [
    {
     "name": "stdout",
     "output_type": "stream",
     "text": [
      "6.02214076e+23\n"
     ]
    }
   ],
   "source": [
    "from scipy.constants import N_A\n",
    "print(N_A)"
   ]
  },
  {
   "cell_type": "markdown",
   "metadata": {},
   "source": [
    "### **Boltzmann Constant**\n",
    "\n",
    "Fetch and display the **Boltzmann constant** in joules per kelvin (J/K). Use it to calculate the thermal energy at room temperature (300 K)."
   ]
  },
  {
   "cell_type": "code",
   "execution_count": 6,
   "metadata": {},
   "outputs": [
    {
     "name": "stdout",
     "output_type": "stream",
     "text": [
      "4.141947e-21\n"
     ]
    }
   ],
   "source": [
    "from scipy.constants import k\n",
    "temperature = 300  # Room temperature in Kelvin\n",
    "thermal_energy = k * temperature\n",
    "print(thermal_energy)"
   ]
  },
  {
   "cell_type": "markdown",
   "metadata": {},
   "source": [
    "### **Elementary Charge**\n",
    "\n",
    "Write a program that accesses the value of the **elementary charge** and converts it to **coulombs**."
   ]
  },
  {
   "cell_type": "code",
   "execution_count": 7,
   "metadata": {},
   "outputs": [
    {
     "name": "stdout",
     "output_type": "stream",
     "text": [
      "1.602176634e-19\n"
     ]
    }
   ],
   "source": [
    "from scipy.constants import e\n",
    "print(e)"
   ]
  },
  {
   "cell_type": "markdown",
   "metadata": {},
   "source": [
    "### **Stefan-Boltzmann Law**\n",
    "\n",
    "Access the **Stefan-Boltzmann constant** and explain its role in blackbody radiation."
   ]
  },
  {
   "cell_type": "code",
   "execution_count": 8,
   "metadata": {},
   "outputs": [
    {
     "name": "stdout",
     "output_type": "stream",
     "text": [
      "5.670374419e-08\n"
     ]
    }
   ],
   "source": [
    "from scipy.constants import sigma\n",
    "print(sigma)"
   ]
  },
  {
   "cell_type": "markdown",
   "metadata": {},
   "source": [
    "### **Rydberg Constant**\n",
    "\n",
    "Write a program that prints the value of the **Rydberg constant** and explain how it is used to calculate the wavelengths of spectral lines."
   ]
  },
  {
   "cell_type": "code",
   "execution_count": 9,
   "metadata": {},
   "outputs": [
    {
     "name": "stdout",
     "output_type": "stream",
     "text": [
      "10973731.56816\n"
     ]
    }
   ],
   "source": [
    "from scipy.constants import Rydberg\n",
    "print(Rydberg)"
   ]
  },
  {
   "cell_type": "markdown",
   "metadata": {},
   "source": [
    "### **Convert Atmosphere to Pascal**\n",
    "\n",
    "Convert **1 atmosphere** to pascals using `scipy.constants`."
   ]
  },
  {
   "cell_type": "code",
   "execution_count": 10,
   "metadata": {},
   "outputs": [
    {
     "name": "stdout",
     "output_type": "stream",
     "text": [
      "101325.0\n"
     ]
    }
   ],
   "source": [
    "from scipy.constants import atmosphere\n",
    "pressure_pa = atmosphere\n",
    "print(pressure_pa)"
   ]
  },
  {
   "cell_type": "markdown",
   "metadata": {},
   "source": [
    "### **Mass-Energy Equivalence**\n",
    "\n",
    "Use **Einstein’s equation** \\(E = mc^2\\) to calculate the energy equivalent of **1 kg** of mass using the **speed of light** constant from `scipy.constants`."
   ]
  },
  {
   "cell_type": "code",
   "execution_count": 11,
   "metadata": {},
   "outputs": [
    {
     "name": "stdout",
     "output_type": "stream",
     "text": [
      "8.987551787368176e+16\n"
     ]
    }
   ],
   "source": [
    "from scipy.constants import c\n",
    "mass = 1  # kg\n",
    "energy = mass * c**2\n",
    "print(energy)"
   ]
  },
  {
   "cell_type": "markdown",
   "metadata": {},
   "source": [
    "### **Gas Constant**\n",
    "\n",
    "Write a program to access the **gas constant** \\(R\\) and use it to calculate the pressure of an ideal gas at a given temperature, volume, and number of moles."
   ]
  },
  {
   "cell_type": "code",
   "execution_count": 12,
   "metadata": {},
   "outputs": [
    {
     "name": "stdout",
     "output_type": "stream",
     "text": [
      "24943.387854\n"
     ]
    }
   ],
   "source": [
    "from scipy.constants import R\n",
    "n = 1  # moles\n",
    "T = 300  # Kelvin\n",
    "V = 0.1  # cubic meters\n",
    "P = (n * R * T) / V\n",
    "print(P)"
   ]
  },
  {
   "cell_type": "markdown",
   "metadata": {},
   "source": [
    "### **Convert Torr to Pascal**\n",
    "\n",
    "Convert **1 torr** to pascals using `scipy.constants`."
   ]
  },
  {
   "cell_type": "code",
   "execution_count": 13,
   "metadata": {},
   "outputs": [
    {
     "name": "stdout",
     "output_type": "stream",
     "text": [
      "133.32236842105263\n"
     ]
    }
   ],
   "source": [
    "from scipy.constants import torr\n",
    "pressure_pa = torr\n",
    "print(pressure_pa)"
   ]
  },
  {
   "cell_type": "markdown",
   "metadata": {},
   "source": [
    "### **Wien's Displacement Constant**\n",
    "\n",
    "Fetch the value of **Wien’s displacement constant** and explain its role in determining the peak wavelength of blackbody radiation."
   ]
  },
  {
   "cell_type": "code",
   "execution_count": 14,
   "metadata": {},
   "outputs": [
    {
     "name": "stdout",
     "output_type": "stream",
     "text": [
      "0.002897771955\n"
     ]
    }
   ],
   "source": [
    "from scipy.constants import Wien\n",
    "print(Wien)"
   ]
  },
  {
   "cell_type": "markdown",
   "metadata": {},
   "source": [
    "### **Fine-Structure and Bohr Radius**\n",
    "\n",
    "Access the value of the **Bohr radius** and explain its significance in quantum mechanics."
   ]
  },
  {
   "cell_type": "code",
   "execution_count": null,
   "metadata": {},
   "outputs": [],
   "source": [
    "from scipy.constants import Bohr_radius\n",
    "print(Bohr_radius)"
   ]
  },
  {
   "cell_type": "markdown",
   "metadata": {},
   "source": [
    "### **Light-Year to Meters Conversion**\n",
    "\n",
    "Convert **1 light-year** to meters using `scipy.constants`."
   ]
  },
  {
   "cell_type": "code",
   "execution_count": 18,
   "metadata": {},
   "outputs": [
    {
     "name": "stdout",
     "output_type": "stream",
     "text": [
      "9460730472580800.0\n"
     ]
    }
   ],
   "source": [
    "from scipy.constants import light_year\n",
    "print(light_year)"
   ]
  },
  {
   "cell_type": "markdown",
   "metadata": {},
   "source": [
    "### **Pressure Conversion**\n",
    "\n",
    "Convert **1 bar** to pascals using `scipy.constants`."
   ]
  },
  {
   "cell_type": "code",
   "execution_count": 19,
   "metadata": {},
   "outputs": [
    {
     "name": "stdout",
     "output_type": "stream",
     "text": [
      "100000.0\n"
     ]
    }
   ],
   "source": [
    "from scipy.constants import bar\n",
    "pressure_pa = bar\n",
    "print(pressure_pa)"
   ]
  },
  {
   "cell_type": "markdown",
   "metadata": {},
   "source": [
    "### **Proton-Electron Mass Ratio**\n",
    "\n",
    "Access and print the value of the **proton-electron mass ratio** using `scipy.constants`."
   ]
  },
  {
   "cell_type": "code",
   "execution_count": 20,
   "metadata": {},
   "outputs": [
    {
     "name": "stdout",
     "output_type": "stream",
     "text": [
      "1836.1526734400013\n"
     ]
    }
   ],
   "source": [
    "from scipy.constants import proton_mass, electron_mass\n",
    "mass_ratio = proton_mass / electron_mass\n",
    "print(mass_ratio)"
   ]
  },
  {
   "cell_type": "markdown",
   "metadata": {},
   "source": [
    "### **Atomic Mass Unit**\n",
    "\n",
    "Access the value of **atomic mass unit** (u) and use it to convert **12 u** to kilograms."
   ]
  },
  {
   "cell_type": "code",
   "execution_count": 21,
   "metadata": {},
   "outputs": [
    {
     "name": "stdout",
     "output_type": "stream",
     "text": [
      "1.9926468799199998e-26\n"
     ]
    }
   ],
   "source": [
    "from scipy.constants import atomic_mass\n",
    "mass_kg = 12 * atomic_mass\n",
    "print(mass_kg)"
   ]
  },
  {
   "cell_type": "markdown",
   "metadata": {},
   "source": [
    "### **Gravitational Acceleration on Earth**\n",
    "\n",
    "Access the value of **standard gravitational acceleration** on Earth and use it to calculate the weight of a 70 kg object."
   ]
  },
  {
   "cell_type": "code",
   "execution_count": 24,
   "metadata": {},
   "outputs": [
    {
     "name": "stdout",
     "output_type": "stream",
     "text": [
      "686.4654999999999\n"
     ]
    }
   ],
   "source": [
    "from scipy.constants import g\n",
    "mass = 70  # kg\n",
    "weight = mass * g\n",
    "print(weight)"
   ]
  },
  {
   "cell_type": "markdown",
   "metadata": {},
   "source": [
    "### **Calculate Photon Energy**\n",
    "\n",
    "Using **Planck’s constant** and the **speed of light**, calculate the energy of a photon with a wavelength of 500 nm."
   ]
  },
  {
   "cell_type": "code",
   "execution_count": 25,
   "metadata": {},
   "outputs": [
    {
     "name": "stdout",
     "output_type": "stream",
     "text": [
      "3.972891714297857e-19\n"
     ]
    }
   ],
   "source": [
    "from scipy.constants import h, c\n",
    "wavelength = 500e-9  # meters\n",
    "photon_energy = h * c / wavelength\n",
    "print(photon_energy)"
   ]
  },
  {
   "cell_type": "markdown",
   "metadata": {},
   "source": [
    "### **Convert Calorie to Joules**\n",
    "\n",
    "Convert **1 calorie** to joules using `scipy.constants`."
   ]
  },
  {
   "cell_type": "code",
   "execution_count": 26,
   "metadata": {},
   "outputs": [
    {
     "name": "stdout",
     "output_type": "stream",
     "text": [
      "4.184\n"
     ]
    }
   ],
   "source": [
    "from scipy.constants import calorie\n",
    "energy_joules = calorie\n",
    "print(energy_joules)"
   ]
  },
  {
   "cell_type": "markdown",
   "metadata": {},
   "source": [
    "### Newton's Gravitational Law\n",
    "Use the gravitational constant 𝐺\n",
    "to calculate the gravitational force between two objects, each of mass 1000 kg, separated by a distance of 10 meters."
   ]
  },
  {
   "cell_type": "code",
   "execution_count": 27,
   "metadata": {},
   "outputs": [
    {
     "name": "stdout",
     "output_type": "stream",
     "text": [
      "6.674299999999999e-07\n"
     ]
    }
   ],
   "source": [
    "from scipy.constants import G\n",
    "mass1 = 1000  # kg\n",
    "mass2 = 1000  # kg\n",
    "distance = 10  # meters\n",
    "force = G * (mass1 * mass2) / (distance ** 2)\n",
    "print(force)"
   ]
  },
  {
   "cell_type": "markdown",
   "metadata": {},
   "source": [
    "### **Hubble Constant**\n",
    "\n",
    "Write a code to fetch the value of the **Hubble constant** and explain its significance in the context of the expanding universe."
   ]
  },
  {
   "cell_type": "code",
   "execution_count": null,
   "metadata": {},
   "outputs": [],
   "source": [
    "from scipy.constants import physical_constants\n",
    "hubble_constant = physical_constants['Hubble constant']\n",
    "print(hubble_constant)"
   ]
  },
  {
   "cell_type": "markdown",
   "metadata": {},
   "source": [
    "### **Electron Mass and Rest Energy**\n",
    "\n",
    "Calculate the rest energy of an electron using its mass and the speed of light (\\(E = mc^2\\))."
   ]
  },
  {
   "cell_type": "code",
   "execution_count": 29,
   "metadata": {},
   "outputs": [
    {
     "name": "stdout",
     "output_type": "stream",
     "text": [
      "8.187105776823886e-14\n"
     ]
    }
   ],
   "source": [
    "from scipy.constants import electron_mass, c\n",
    "energy = electron_mass * c**2\n",
    "print(energy)"
   ]
  },
  {
   "cell_type": "markdown",
   "metadata": {},
   "source": [
    "### **Reduced Planck Constant**\n",
    "\n",
    "Access the **reduced Planck constant** (ℏ) and use it to calculate the angular momentum of a photon."
   ]
  },
  {
   "cell_type": "code",
   "execution_count": 30,
   "metadata": {},
   "outputs": [
    {
     "name": "stdout",
     "output_type": "stream",
     "text": [
      "1.0545718176461565e-34\n"
     ]
    }
   ],
   "source": [
    "from scipy.constants import hbar\n",
    "print(hbar)"
   ]
  },
  {
   "cell_type": "markdown",
   "metadata": {},
   "source": [
    "### **Proton Mass**\n",
    "\n",
    "Fetch and display the **proton mass** in kilograms, and convert it to grams."
   ]
  },
  {
   "cell_type": "code",
   "execution_count": 31,
   "metadata": {},
   "outputs": [
    {
     "name": "stdout",
     "output_type": "stream",
     "text": [
      "1.67262192369e-24\n"
     ]
    }
   ],
   "source": [
    "from scipy.constants import proton_mass\n",
    "proton_mass_grams = proton_mass * 1000  # convert to grams\n",
    "print(proton_mass_grams)"
   ]
  },
  {
   "cell_type": "markdown",
   "metadata": {},
   "source": [
    "### **Stefan-Boltzmann Law for Blackbody Radiation**\n",
    "\n",
    "Use the **Stefan-Boltzmann constant** to calculate the total radiative power emitted per square meter by a blackbody at 6000 K."
   ]
  },
  {
   "cell_type": "code",
   "execution_count": 32,
   "metadata": {},
   "outputs": [
    {
     "name": "stdout",
     "output_type": "stream",
     "text": [
      "73488052.47024\n"
     ]
    }
   ],
   "source": [
    "from scipy.constants import sigma\n",
    "temperature = 6000  # Kelvin\n",
    "power_per_square_meter = sigma * (temperature ** 4)\n",
    "print(power_per_square_meter)"
   ]
  },
  {
   "cell_type": "markdown",
   "metadata": {},
   "source": [
    "### **Wien’s Law Peak Wavelength**\n",
    "\n",
    "Using **Wien’s displacement constant**, calculate the peak wavelength of blackbody radiation at 5000 K."
   ]
  },
  {
   "cell_type": "code",
   "execution_count": 33,
   "metadata": {},
   "outputs": [
    {
     "name": "stdout",
     "output_type": "stream",
     "text": [
      "5.79554391e-07\n"
     ]
    }
   ],
   "source": [
    "from scipy.constants import Wien\n",
    "temperature = 5000  # Kelvin\n",
    "peak_wavelength = Wien / temperature\n",
    "print(peak_wavelength)"
   ]
  },
  {
   "cell_type": "markdown",
   "metadata": {},
   "source": [
    "### **Electron to Coulomb Conversion**\n",
    "\n",
    "Convert the charge of **5 electrons** to coulombs using `scipy.constants`."
   ]
  },
  {
   "cell_type": "code",
   "execution_count": 34,
   "metadata": {},
   "outputs": [
    {
     "name": "stdout",
     "output_type": "stream",
     "text": [
      "8.01088317e-19\n"
     ]
    }
   ],
   "source": [
    "from scipy.constants import e\n",
    "electrons = 5\n",
    "charge_coulombs = electrons * e\n",
    "print(charge_coulombs)"
   ]
  },
  {
   "cell_type": "markdown",
   "metadata": {},
   "source": [
    "### **Atomic Unit of Time**\n",
    "\n",
    "Access the **atomic unit of time** from `scipy.constants` and print its value in seconds."
   ]
  },
  {
   "cell_type": "code",
   "execution_count": 35,
   "metadata": {},
   "outputs": [
    {
     "name": "stdout",
     "output_type": "stream",
     "text": [
      "(2.4188843265857e-17, 's', 4.7e-29)\n"
     ]
    }
   ],
   "source": [
    "from scipy.constants import physical_constants\n",
    "atomic_time_unit = physical_constants['atomic unit of time']\n",
    "print(atomic_time_unit)"
   ]
  },
  {
   "cell_type": "markdown",
   "metadata": {},
   "source": [
    "### **Faraday’s Constant**\n",
    "\n",
    "Use **Faraday’s constant** to calculate the total charge of 2 moles of electrons."
   ]
  },
  {
   "cell_type": "code",
   "execution_count": 36,
   "metadata": {},
   "outputs": [
    {
     "name": "stdout",
     "output_type": "stream",
     "text": [
      "192970.66424\n"
     ]
    }
   ],
   "source": [
    "from scipy.constants import physical_constants\n",
    "Faraday_constant = physical_constants['Faraday constant'][0]\n",
    "moles_of_electrons = 2\n",
    "total_charge = Faraday_constant * moles_of_electrons\n",
    "print(total_charge)"
   ]
  },
  {
   "cell_type": "markdown",
   "metadata": {},
   "source": [
    "### **Convert Kilocalories to Joules**\n",
    "\n",
    "Convert **500 kilocalories (kcal)** to joules using `scipy.constants`."
   ]
  },
  {
   "cell_type": "code",
   "execution_count": 37,
   "metadata": {},
   "outputs": [
    {
     "name": "stdout",
     "output_type": "stream",
     "text": [
      "2092000.0\n"
     ]
    }
   ],
   "source": [
    "from scipy.constants import calorie\n",
    "kcal_to_joules = 500 * calorie * 1000  # kilocalories to joules\n",
    "print(kcal_to_joules)"
   ]
  },
  {
   "cell_type": "markdown",
   "metadata": {},
   "source": [
    "### **Astronomical Unit in Kilometers**\n",
    "\n",
    "Access the value of the **astronomical unit (AU)** and convert it to kilometers."
   ]
  },
  {
   "cell_type": "code",
   "execution_count": 38,
   "metadata": {},
   "outputs": [
    {
     "name": "stdout",
     "output_type": "stream",
     "text": [
      "149597870.7\n"
     ]
    }
   ],
   "source": [
    "from scipy.constants import astronomical_unit\n",
    "au_to_km = astronomical_unit / 1000  # Convert meters to kilometers\n",
    "print(au_to_km)"
   ]
  },
  {
   "cell_type": "markdown",
   "metadata": {},
   "source": [
    "### **Proton-Electron Mass Difference**\n",
    "\n",
    "Write a code to compute the mass difference between a proton and an electron using constants from `scipy.constants`."
   ]
  },
  {
   "cell_type": "code",
   "execution_count": 39,
   "metadata": {},
   "outputs": [
    {
     "name": "stdout",
     "output_type": "stream",
     "text": [
      "1.67171098531985e-27\n"
     ]
    }
   ],
   "source": [
    "from scipy.constants import proton_mass, electron_mass\n",
    "mass_difference = proton_mass - electron_mass\n",
    "print(mass_difference)"
   ]
  },
  {
   "cell_type": "markdown",
   "metadata": {},
   "source": [
    "### **Electron Volt to Joules Conversion**\n",
    "\n",
    "Convert **10 electron volts (eV)** to joules using `scipy.constants`."
   ]
  },
  {
   "cell_type": "code",
   "execution_count": 40,
   "metadata": {},
   "outputs": [
    {
     "name": "stdout",
     "output_type": "stream",
     "text": [
      "1.602176634e-18\n"
     ]
    }
   ],
   "source": [
    "from scipy.constants import electron_volt\n",
    "energy_joules = 10 * electron_volt\n",
    "print(energy_joules)"
   ]
  },
  {
   "cell_type": "markdown",
   "metadata": {},
   "source": [
    "### **Magnetic Constant (Permeability of Free Space)**\n",
    "\n",
    "Access the value of the **magnetic constant** and explain its significance in electromagnetism."
   ]
  },
  {
   "cell_type": "code",
   "execution_count": 41,
   "metadata": {},
   "outputs": [
    {
     "name": "stdout",
     "output_type": "stream",
     "text": [
      "1.25663706212e-06\n"
     ]
    }
   ],
   "source": [
    "from scipy.constants import mu_0\n",
    "print(mu_0)"
   ]
  },
  {
   "cell_type": "markdown",
   "metadata": {},
   "source": [
    "### **Atomic Mass of Carbon-12**\n",
    "\n",
    "Use the **atomic mass constant** to calculate the mass of a **carbon-12** atom."
   ]
  },
  {
   "cell_type": "code",
   "execution_count": 43,
   "metadata": {},
   "outputs": [
    {
     "name": "stdout",
     "output_type": "stream",
     "text": [
      "1.9926468799199998e-26\n"
     ]
    }
   ],
   "source": [
    "from scipy.constants import atomic_mass\n",
    "mass_carbon_12 = atomic_mass * 12\n",
    "print(mass_carbon_12)"
   ]
  },
  {
   "cell_type": "markdown",
   "metadata": {},
   "source": [
    "### **Convert Light Speed to Inches per Second**\n",
    "\n",
    "Convert the **speed of light** from meters per second to inches per second using `scipy.constants`."
   ]
  },
  {
   "cell_type": "code",
   "execution_count": 44,
   "metadata": {},
   "outputs": [
    {
     "name": "stdout",
     "output_type": "stream",
     "text": [
      "11802852677.165356\n"
     ]
    }
   ],
   "source": [
    "from scipy.constants import c, inch\n",
    "speed_inches_per_second = c / inch\n",
    "print(speed_inches_per_second)"
   ]
  },
  {
   "cell_type": "markdown",
   "metadata": {},
   "source": [
    "### **Radiation Pressure from Blackbody**\n",
    "\n",
    "Calculate the **radiation pressure** of a blackbody at 5000 K using the Stefan-Boltzmann constant."
   ]
  },
  {
   "cell_type": "code",
   "execution_count": 49,
   "metadata": {},
   "outputs": [
    {
     "name": "stdout",
     "output_type": "stream",
     "text": [
      "0.03940486067726004\n"
     ]
    }
   ],
   "source": [
    "from scipy.constants import sigma\n",
    "temperature = 5000  # Kelvin\n",
    "pressure_radiation = sigma * (temperature ** 4) / (3 * 299792458)  # Radiation pressure formula\n",
    "print(pressure_radiation)"
   ]
  },
  {
   "cell_type": "markdown",
   "metadata": {},
   "source": [
    "### **Atomic Unit of Energy**\n",
    "\n",
    "Access the **atomic unit of energy** and convert it to electron volts (eV)."
   ]
  },
  {
   "cell_type": "code",
   "execution_count": 50,
   "metadata": {},
   "outputs": [
    {
     "name": "stdout",
     "output_type": "stream",
     "text": [
      "27.211386245988034\n"
     ]
    }
   ],
   "source": [
    "from scipy.constants import physical_constants, electron_volt\n",
    "atomic_unit_energy = physical_constants['atomic unit of energy'][0]\n",
    "energy_in_eV = atomic_unit_energy / electron_volt\n",
    "print(energy_in_eV)"
   ]
  },
  {
   "cell_type": "markdown",
   "metadata": {},
   "source": [
    "### **Stefan-Boltzmann Law for Sun's Temperature**\n",
    "\n",
    "Using **Stefan-Boltzmann Law**, estimate the total power emitted by the Sun given its surface temperature is approximately 5778 K and its radius is 6.96 × 10⁸ meters."
   ]
  },
  {
   "cell_type": "code",
   "execution_count": 51,
   "metadata": {},
   "outputs": [
    {
     "name": "stdout",
     "output_type": "stream",
     "text": [
      "3.8472484194287e+26\n"
     ]
    }
   ],
   "source": [
    "from scipy.constants import sigma, pi\n",
    "temperature = 5778  # Kelvin\n",
    "radius = 6.96e8  # meters\n",
    "power = 4 * pi * (radius ** 2) * sigma * (temperature ** 4)\n",
    "print(power)"
   ]
  }
 ],
 "metadata": {
  "kernelspec": {
   "display_name": "Python 3",
   "language": "python",
   "name": "python3"
  },
  "language_info": {
   "codemirror_mode": {
    "name": "ipython",
    "version": 3
   },
   "file_extension": ".py",
   "mimetype": "text/x-python",
   "name": "python",
   "nbconvert_exporter": "python",
   "pygments_lexer": "ipython3",
   "version": "3.12.5"
  }
 },
 "nbformat": 4,
 "nbformat_minor": 2
}
