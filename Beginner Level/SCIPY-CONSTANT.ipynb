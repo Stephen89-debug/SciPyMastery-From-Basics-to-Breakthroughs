{
 "cells": [
  {
   "cell_type": "markdown",
   "metadata": {},
   "source": [
    "## SCIPY CONSTANT"
   ]
  },
  {
   "cell_type": "markdown",
   "metadata": {},
   "source": [
    "\n",
    "### Physical Constant \n",
    "In **`scipy.constants`**, there are numerous physical constants that are crucial for scientific, engineering, and physics applications. Below, I will walk you through the different physical constants provided by SciPy, along with techniques to explore, convert, and search for these constants.\n",
    "\n",
    "---\n",
    "\n",
    "### **1. Basic Constants**\n",
    "These constants represent some of the most fundamental values in science:\n",
    "\n",
    "- **Speed of Light (`c`)**: `scipy.constants.c`  \n",
    "  The speed of light in vacuum (m/s).\n",
    "\n",
    "- **Gravitational Constant (`G`)**: `scipy.constants.G`  \n",
    "  The universal gravitational constant (m³/kg/s²).\n",
    "\n",
    "- **Planck's Constant (`h`)**: `scipy.constants.h`  \n",
    "  Used in quantum mechanics to relate energy and frequency (J·s).\n",
    "\n",
    "- **Elementary Charge (`e`)**: `scipy.constants.e`  \n",
    "  The electric charge of one electron (Coulombs).\n",
    "\n",
    "- **Avogadro's Number (`N_A`)**: `scipy.constants.Avogadro`  \n",
    "  The number of atoms or molecules in one mole.\n",
    "\n",
    "---\n",
    "\n",
    "### **2. Derived Constants**\n",
    "These constants are derived from more fundamental constants:\n",
    "\n",
    "- **Reduced Planck Constant (`ħ`)**: `scipy.constants.hbar`  \n",
    "  Planck constant divided by 2π.\n",
    "\n",
    "- **Fine-structure Constant (`α`)**: `scipy.constants.alpha`  \n",
    "  Dimensionless constant characterizing the strength of electromagnetic interaction.\n",
    "\n",
    "- **Boltzmann Constant (`k_B`)**: `scipy.constants.Boltzmann`  \n",
    "  Relates temperature to energy (J/K).\n",
    "\n",
    "---\n",
    "\n",
    "### **3. Electromagnetic Constants**\n",
    "These constants relate to electromagnetic phenomena:\n",
    "\n",
    "- **Magnetic Constant (`μ₀`)**: `scipy.constants.mu_0`  \n",
    "  The permeability of free space (N/A²).\n",
    "\n",
    "- **Electric Constant (`ε₀`)**: `scipy.constants.epsilon_0`  \n",
    "  The permittivity of free space (F/m).\n",
    "\n",
    "- **Faraday Constant (`F`)**: `scipy.constants.Faraday`  \n",
    "  The charge of one mole of electrons (C/mol).\n",
    "\n",
    "---\n",
    "\n",
    "### **4. Atomic and Nuclear Constants**\n",
    "Important in atomic and nuclear physics:\n",
    "\n",
    "- **Electron Mass (`m_e`)**: `scipy.constants.electron_mass`  \n",
    "  The mass of an electron (kg).\n",
    "\n",
    "- **Proton Mass (`m_p`)**: `scipy.constants.proton_mass`  \n",
    "  The mass of a proton (kg).\n",
    "\n",
    "- **Neutron Mass (`m_n`)**: `scipy.constants.neutron_mass`  \n",
    "  The mass of a neutron (kg).\n",
    "\n",
    "- **Atomic Mass Unit (`u`)**: `scipy.constants.atomic_mass`  \n",
    "  The unified atomic mass constant (kg).\n",
    "\n",
    "---\n",
    "\n",
    "### **5. Constants for Energy**\n",
    "These constants relate to energy units and their conversions:\n",
    "\n",
    "- **Electron Volt (`eV`)**: `scipy.constants.eV`  \n",
    "  Energy gained by an electron moving through 1 volt of potential difference.\n",
    "\n",
    "- **Joule (`J`)**: `scipy.constants.joule`  \n",
    "  SI unit of energy (kg·m²/s²).\n",
    "\n",
    "- **Calorie (`cal`)**: `scipy.constants.calorie`  \n",
    "  Energy required to raise the temperature of 1 gram of water by 1 degree Celsius.\n",
    "\n",
    "---\n",
    "\n",
    "### **6. Time and Frequency Constants**\n",
    "These constants relate to time and frequency conversions:\n",
    "\n",
    "- **Minute**: `scipy.constants.minute`  \n",
    "  The length of one minute in seconds (60 seconds).\n",
    "\n",
    "- **Hour**: `scipy.constants.hour`  \n",
    "  The length of one hour in seconds (3600 seconds).\n",
    "\n",
    "- **Day**: `scipy.constants.day`  \n",
    "  The length of one day in seconds (86400 seconds).\n",
    "\n",
    "- **Frequency Units**:\n",
    "  - **Hertz (`Hz`)**: `scipy.constants.hertz`  \n",
    "    SI unit for frequency (1/s).\n",
    "  \n",
    "---\n",
    "\n",
    "### **7. Distance and Length Constants**\n",
    "These constants deal with units of distance and length:\n",
    "\n",
    "- **Angstrom (`Å`)**: `scipy.constants.angstrom`  \n",
    "  A unit of length, equal to 10⁻¹⁰ meters.\n",
    "\n",
    "- **Light Year**: `scipy.constants.light_year`  \n",
    "  The distance light travels in one year (m).\n",
    "\n",
    "- **Astronomical Unit (AU)**: `scipy.constants.astronomical_unit`  \n",
    "  Mean distance between the Earth and the Sun (m).\n",
    "\n",
    "- **Mile**: `scipy.constants.mile`  \n",
    "  One mile in meters.\n",
    "\n",
    "- **Parsec**: `scipy.constants.parsec`  \n",
    "  Unit of length used to measure large distances to astronomical objects.\n",
    "\n",
    "---\n",
    "\n",
    "### **8. Mass and Weight Constants**\n",
    "These constants relate to mass and weight:\n",
    "\n",
    "- **Gram**: `scipy.constants.gram`  \n",
    "  One gram in kilograms.\n",
    "\n",
    "- **Atomic Mass Unit (`amu`)**: `scipy.constants.u`  \n",
    "  Standard unit for measuring atomic mass.\n",
    "\n",
    "- **Pound**: `scipy.constants.pound`  \n",
    "  One pound in kilograms.\n",
    "\n",
    "- **Metric Ton**: `scipy.constants.metric_ton`  \n",
    "  One metric ton in kilograms.\n",
    "\n",
    "---\n",
    "\n",
    "### **9. Force and Pressure Constants**\n",
    "These constants help in calculating force and pressure:\n",
    "\n",
    "- **Newton (`N`)**: `scipy.constants.newton`  \n",
    "  The SI unit of force (kg·m/s²).\n",
    "\n",
    "- **Pascal (`Pa`)**: `scipy.constants.pascal`  \n",
    "  The SI unit of pressure (N/m²).\n",
    "\n",
    "- **Atmosphere (`atm`)**: `scipy.constants.atm`  \n",
    "  Standard atmospheric pressure.\n",
    "\n",
    "---\n",
    "\n",
    "### **10. Radiation and Light Constants**\n",
    "These constants are related to light and radiation:\n",
    "\n",
    "- **Stefan-Boltzmann Constant (`σ`)**: `scipy.constants.Stefan_Boltzmann`  \n",
    "  Describes the power radiated from a black body.\n",
    "\n",
    "- **Photon Energy**: `scipy.constants.photon`  \n",
    "  The energy of a photon.\n",
    "\n",
    "---\n",
    "\n",
    "### **11. Angle and Trigonometry Constants**\n",
    "These constants deal with angles and conversions:\n",
    "\n",
    "- **Degree (`°`)**: `scipy.constants.degree`  \n",
    "  Conversion from degrees to radians.\n",
    "\n",
    "- **Radian (`rad`)**: `scipy.constants.radian`  \n",
    "  Conversion from radians to degrees.\n",
    "\n",
    "---\n",
    "\n",
    "### **12. Miscellaneous Constants**\n",
    "These are additional constants that find use in various fields:\n",
    "\n",
    "- **Avogadro Number (`N_A`)**: `scipy.constants.Avogadro`  \n",
    "  The number of atoms/molecules in one mole.\n",
    "\n",
    "- **Golden Ratio (`ϕ`)**: `scipy.constants.golden`  \n",
    "  The golden ratio, often seen in mathematics and art.\n",
    "\n",
    "---\n"
   ]
  },
  {
   "cell_type": "markdown",
   "metadata": {},
   "source": [
    "When working with scientific and engineering applications, precision and accuracy are crucial, especially when dealing with constants. SciPy not only provides the values of physical constants but also includes their uncertainties. This allows you to maintain high accuracy in your calculations, especially in fields like quantum mechanics, astrophysics, or precision engineering where even slight deviations in constants can lead to large errors in results."
   ]
  },
  {
   "cell_type": "markdown",
   "metadata": {},
   "source": [
    "## Techniques to Explore, Convert, and Search for Constants\n",
    "\n",
    "### **1. Exploring Constants**\n",
    "To explore constants in SciPy, you can use the `dir()` function:\n",
    "\n",
    "```python\n",
    "import scipy.constants\n",
    "print(dir(scipy.constants))\n",
    "```\n",
    "This will list all available constants in the module.\n",
    "\n",
    "### **2. Accessing Specific Constants**\n",
    "You can access individual constants using their names:\n",
    "\n",
    "```python\n",
    "from scipy.constants import c, G, h\n",
    "print(\"Speed of light:\", c)\n",
    "print(\"Gravitational constant:\", G)\n",
    "print(\"Planck constant:\", h)\n",
    "```\n",
    "\n",
    "### **3. Unit Conversions**\n",
    "SciPy provides constants to easily convert between units:\n",
    "\n",
    "```python\n",
    "from scipy.constants import minute, hour, day\n",
    "print(\"Minutes to seconds:\", minute)\n",
    "print(\"Hours to seconds:\", hour)\n",
    "print(\"Days to seconds:\", day)\n",
    "```\n",
    "\n",
    "### **4. Searching for Constants**\n",
    "You can retrieve more information about constants (including their unit and uncertainty) using:\n",
    "\n",
    "```python\n",
    "from scipy.constants import physical_constants\n",
    "print(physical_constants['speed of light in vacuum'])\n",
    "```\n",
    "\n",
    "This returns a tuple with the value, unit, and uncertainty of the constant.\n",
    "\n",
    "### **5. Custom Conversion Functions**\n",
    "You can create custom functions using constants for unit conversions:\n",
    "\n",
    "```python\n",
    "from scipy.constants import mile, kilometer\n",
    "def miles_to_kilometers(miles):\n",
    "    return miles * mile / kilometer\n",
    "```\n",
    "\n",
    "### **6. Working with `physical_constants` Dictionary**\n",
    "Explore `physical_constants` to search for any physical constant by its name:\n",
    "\n",
    "```python\n",
    "from scipy.constants import physical_constants\n",
    "print(physical_constants['Planck constant'])\n",
    "```\n",
    "\n",
    "### **7. Precision and Accuracy**\n",
    "SciPy provides constants with their uncertainties, allowing for high-precision calculations in scientific applications."
   ]
  },
  {
   "cell_type": "markdown",
   "metadata": {},
   "source": [
    "When working with scientific and engineering applications, precision and accuracy are crucial, especially when dealing with constants. SciPy not only provides the values of physical constants but also includes their uncertainties. This allows you to maintain high accuracy in your calculations, especially in fields like quantum mechanics, astrophysics, or precision engineering where even slight deviations in constants can lead to large errors in results."
   ]
  },
  {
   "cell_type": "markdown",
   "metadata": {},
   "source": [
    "# Lets Prectise Some Questions "
   ]
  },
  {
   "cell_type": "markdown",
   "metadata": {},
   "source": [
    "#### Basic Access Of Constants "
   ]
  },
  {
   "cell_type": "markdown",
   "metadata": {},
   "source": [
    "Write a program to access the value of the speed of light constant using `scipy.constants`"
   ]
  },
  {
   "cell_type": "code",
   "execution_count": 64,
   "metadata": {},
   "outputs": [
    {
     "name": "stdout",
     "output_type": "stream",
     "text": [
      "299792458.0\n"
     ]
    }
   ],
   "source": [
    "from scipy.constants import c \n",
    "print(c)"
   ]
  },
  {
   "cell_type": "markdown",
   "metadata": {},
   "source": [
    "#### Unit Conversiuon "
   ]
  },
  {
   "cell_type": "markdown",
   "metadata": {},
   "source": [
    "Using `scipy.constants`, convert the **speed of light** from meters per second (m/s) to kilometers per hour (km/h)."
   ]
  },
  {
   "cell_type": "code",
   "execution_count": 65,
   "metadata": {},
   "outputs": [
    {
     "name": "stdout",
     "output_type": "stream",
     "text": [
      "1079252848.8\n"
     ]
    }
   ],
   "source": [
    "from scipy.constants import c \n",
    "speed_kmh= c*3.6\n",
    "print(speed_kmh)"
   ]
  },
  {
   "cell_type": "markdown",
   "metadata": {},
   "source": [
    "#### Gravitational Constants "
   ]
  },
  {
   "cell_type": "markdown",
   "metadata": {},
   "source": [
    "Write a program to access the gravitational constant and display its value along with its unit."
   ]
  },
  {
   "cell_type": "code",
   "execution_count": 1,
   "metadata": {},
   "outputs": [
    {
     "name": "stdout",
     "output_type": "stream",
     "text": [
      "9.80665\n"
     ]
    }
   ],
   "source": [
    "from scipy.constants import g\n",
    "print(g)"
   ]
  },
  {
   "cell_type": "markdown",
   "metadata": {},
   "source": [
    "#### Planck's Constant**\n",
    "\n",
    "Access the value of **Planck’s constant** using `scipy.constants`. Print the constant's value, unit, and uncertainty."
   ]
  },
  {
   "cell_type": "code",
   "execution_count": 2,
   "metadata": {},
   "outputs": [
    {
     "name": "stdout",
     "output_type": "stream",
     "text": [
      "(6.62607015e-34, 'J Hz^-1', 0.0)\n"
     ]
    }
   ],
   "source": [
    "from scipy.constants import physical_constants\n",
    "planck_constant = physical_constants['Planck constant']\n",
    "print(planck_constant)"
   ]
  },
  {
   "cell_type": "markdown",
   "metadata": {},
   "source": [
    "### Energy Conversion**\n",
    "\n",
    "Convert **1 electron volt (eV)** to joules (J) using the constant provided by `scipy.constants`."
   ]
  },
  {
   "cell_type": "code",
   "execution_count": 3,
   "metadata": {},
   "outputs": [
    {
     "name": "stdout",
     "output_type": "stream",
     "text": [
      "1.602176634e-19\n"
     ]
    }
   ],
   "source": [
    "from scipy.constants import electron_volt\n",
    "energy_joules = electron_volt\n",
    "print(energy_joules)"
   ]
  },
  {
   "cell_type": "markdown",
   "metadata": {},
   "source": [
    "### **Fine-Structure Constant**\n",
    "\n",
    "Write a code to fetch the value of the **fine-structure constant** and explain its significance in quantum mechanics."
   ]
  },
  {
   "cell_type": "code",
   "execution_count": 4,
   "metadata": {},
   "outputs": [
    {
     "name": "stdout",
     "output_type": "stream",
     "text": [
      "0.0072973525693\n"
     ]
    }
   ],
   "source": [
    "from scipy.constants import alpha\n",
    "print(alpha)"
   ]
  },
  {
   "cell_type": "markdown",
   "metadata": {},
   "source": [
    "### **Avogadro's Number**\n",
    "\n",
    "Access **Avogadro’s number** and print its value. Explain its use in chemistry for mole calculations."
   ]
  },
  {
   "cell_type": "code",
   "execution_count": 5,
   "metadata": {},
   "outputs": [
    {
     "name": "stdout",
     "output_type": "stream",
     "text": [
      "6.02214076e+23\n"
     ]
    }
   ],
   "source": [
    "from scipy.constants import N_A\n",
    "print(N_A)"
   ]
  },
  {
   "cell_type": "markdown",
   "metadata": {},
   "source": [
    "### **Boltzmann Constant**\n",
    "\n",
    "Fetch and display the **Boltzmann constant** in joules per kelvin (J/K). Use it to calculate the thermal energy at room temperature (300 K)."
   ]
  },
  {
   "cell_type": "code",
   "execution_count": 6,
   "metadata": {},
   "outputs": [
    {
     "name": "stdout",
     "output_type": "stream",
     "text": [
      "4.141947e-21\n"
     ]
    }
   ],
   "source": [
    "from scipy.constants import k\n",
    "temperature = 300  # Room temperature in Kelvin\n",
    "thermal_energy = k * temperature\n",
    "print(thermal_energy)"
   ]
  },
  {
   "cell_type": "markdown",
   "metadata": {},
   "source": [
    "### **Elementary Charge**\n",
    "\n",
    "Write a program that accesses the value of the **elementary charge** and converts it to **coulombs**."
   ]
  },
  {
   "cell_type": "code",
   "execution_count": 7,
   "metadata": {},
   "outputs": [
    {
     "name": "stdout",
     "output_type": "stream",
     "text": [
      "1.602176634e-19\n"
     ]
    }
   ],
   "source": [
    "from scipy.constants import e\n",
    "print(e)"
   ]
  },
  {
   "cell_type": "markdown",
   "metadata": {},
   "source": [
    "### **Stefan-Boltzmann Law**\n",
    "\n",
    "Access the **Stefan-Boltzmann constant** and explain its role in blackbody radiation."
   ]
  },
  {
   "cell_type": "code",
   "execution_count": 8,
   "metadata": {},
   "outputs": [
    {
     "name": "stdout",
     "output_type": "stream",
     "text": [
      "5.670374419e-08\n"
     ]
    }
   ],
   "source": [
    "from scipy.constants import sigma\n",
    "print(sigma)"
   ]
  },
  {
   "cell_type": "markdown",
   "metadata": {},
   "source": [
    "### **Rydberg Constant**\n",
    "\n",
    "Write a program that prints the value of the **Rydberg constant** and explain how it is used to calculate the wavelengths of spectral lines."
   ]
  },
  {
   "cell_type": "code",
   "execution_count": 9,
   "metadata": {},
   "outputs": [
    {
     "name": "stdout",
     "output_type": "stream",
     "text": [
      "10973731.56816\n"
     ]
    }
   ],
   "source": [
    "from scipy.constants import Rydberg\n",
    "print(Rydberg)"
   ]
  },
  {
   "cell_type": "code",
   "execution_count": null,
   "metadata": {},
   "outputs": [],
   "source": []
  }
 ],
 "metadata": {
  "kernelspec": {
   "display_name": "Python 3",
   "language": "python",
   "name": "python3"
  },
  "language_info": {
   "codemirror_mode": {
    "name": "ipython",
    "version": 3
   },
   "file_extension": ".py",
   "mimetype": "text/x-python",
   "name": "python",
   "nbconvert_exporter": "python",
   "pygments_lexer": "ipython3",
   "version": "3.12.5"
  }
 },
 "nbformat": 4,
 "nbformat_minor": 2
}
