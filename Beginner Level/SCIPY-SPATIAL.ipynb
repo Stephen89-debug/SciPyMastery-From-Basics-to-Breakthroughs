{
 "cells": [
  {
   "cell_type": "markdown",
   "metadata": {},
   "source": [
    "### What is `scipy.spatial`?\n",
    "\n",
    "*scipy.spatial* is a powerful module when it comes to working with geometrical data or any kind of spatial data. It’s basically your toolbox for handling distances, shapes, nearest neighbors, and much more when you’re dealing with points in space (2D, 3D, or even higher dimensions).\n",
    "\n",
    "Imagine you have a map, and you want to calculate the distance between different cities (points). Or maybe you want to find out which city is the closest to a particular point. All of this becomes easy with `scipy.spatial`. It also helps in creating boundaries around points (convex hulls), dividing areas into regions (Voronoi diagrams), or even finding clusters of points.\n",
    "\n",
    "Let’s break it down in a way that feels comfortable and understandable, the Indian style! Step-by-step, with proper focus on concepts and examples."
   ]
  },
  {
   "cell_type": "markdown",
   "metadata": {},
   "source": [
    "### Functions in `scipy.spatial`\n",
    "\n",
    "### 1. Distance Calculation: **Finding Distances Between Points**\n",
    "\n",
    "In geometry, one of the most basic yet essential operations is measuring distance between points. Suppose you have multiple points, and you want to find out the pairwise distances between them or even the distance between two sets of points. This is super important for things like clustering, nearest neighbor search, and even routing in logistics.\n",
    "\n",
    "### Example 1: Pairwise Distances with `pdist()`\n",
    "\n",
    "Here, `pdist()` is used to compute the distances between every pair of points in an array."
   ]
  },
  {
   "cell_type": "code",
   "execution_count": 4,
   "metadata": {},
   "outputs": [
    {
     "name": "stdout",
     "output_type": "stream",
     "text": [
      "[2.82842712 5.65685425 2.82842712]\n"
     ]
    }
   ],
   "source": [
    "from scipy.spatial import distance\n",
    "import numpy as np\n",
    "\n",
    "points = np.array([[1, 2], [3, 4], [5, 6]])\n",
    "dist_matrix = distance.pdist(points, metric='euclidean')\n",
    "print(dist_matrix)"
   ]
  },
  {
   "cell_type": "code",
   "execution_count": null,
   "metadata": {},
   "outputs": [],
   "source": []
  }
 ],
 "metadata": {
  "kernelspec": {
   "display_name": "Python 3",
   "language": "python",
   "name": "python3"
  },
  "language_info": {
   "codemirror_mode": {
    "name": "ipython",
    "version": 3
   },
   "file_extension": ".py",
   "mimetype": "text/x-python",
   "name": "python",
   "nbconvert_exporter": "python",
   "pygments_lexer": "ipython3",
   "version": "3.12.5"
  }
 },
 "nbformat": 4,
 "nbformat_minor": 2
}
