{
 "cells": [
  {
   "cell_type": "markdown",
   "metadata": {},
   "source": [
    "### What is Optimization?\n",
    "\n",
    "**Optimization** means finding the \"best\" solution among a set of possible options. Imagine you want to find the lowest point of a hill (minimization) or the highest point of a mountain (maximization). In mathematical terms, we often try to find the minimum or maximum value of a function."
   ]
  },
  {
   "cell_type": "markdown",
   "metadata": {},
   "source": [
    "### What is Optimization?\n",
    "\n",
    "**Optimization** means finding the \"best\" solution among a set of possible options. Imagine you want to find the lowest point of a hill (minimization) or the highest point of a mountain (maximization). In mathematical terms, we often try to find the minimum or maximum value of a function.\n",
    "\n",
    "### Why use Optimization?\n",
    "\n",
    "There are many real-world problems where we want to optimize something:\n",
    "\n",
    "- Minimizing cost in manufacturing\n",
    "- Maximizing profits in business\n",
    "- Finding the most efficient design of a structure\n",
    "\n",
    "So, optimization techniques are the tools we use to get these \"best\" values."
   ]
  },
  {
   "cell_type": "markdown",
   "metadata": {},
   "source": [
    "### SciPy's Role in Optimization\n",
    "\n",
    "SciPy is a Python library that provides easy-to-use tools for optimization through the `scipy.optimize` module. With this module, we can solve optimization problems in a very simple and structured way.\n",
    "\n",
    "### Starting Point: The `minimize()` Function\n",
    "\n",
    "The **most basic** function in SciPy for optimization is `minimize()`. This function helps us find the minimum of a mathematical function. You can think of it like this:\n",
    "\n",
    "- You have a function \\( f(x) \\), and you want to find the value of `x` where this function gives the smallest value.\n",
    "\n",
    "### Basic Terminology\n",
    "\n",
    "- **Objective function**: This is the function that you want to minimize or maximize.\n",
    "- **Initial guess**: You start with an initial guess (value of `x`), and SciPy will improve this guess iteratively.\n",
    "- **Minimum**: The point where the function gives the lowest value."
   ]
  },
  {
   "cell_type": "markdown",
   "metadata": {},
   "source": [
    "### Example 1: A Simple Parabola\n",
    "\n",
    "Let’s start with the **simplest case**. Suppose we want to minimize a function like this:\n",
    "\n",
    "\\[\n",
    "f(x) = x^2 + 3x + 2\n",
    "\\]\n",
    "\n",
    "This is a simple quadratic function, a parabola. We want to find the value of `x` where the function reaches its lowest point. In simple words, we want to find the minimum value of this curve."
   ]
  },
  {
   "cell_type": "code",
   "execution_count": 1,
   "metadata": {},
   "outputs": [
    {
     "name": "stdout",
     "output_type": "stream",
     "text": [
      "  message: Optimization terminated successfully.\n",
      "  success: True\n",
      "   status: 0\n",
      "      fun: -0.25\n",
      "        x: [-1.500e+00]\n",
      "      nit: 2\n",
      "      jac: [ 0.000e+00]\n",
      " hess_inv: [[ 5.000e-01]]\n",
      "     nfev: 6\n",
      "     njev: 3\n"
     ]
    }
   ],
   "source": [
    "from scipy.optimize import minimize\n",
    "def objective(x):\n",
    "    return x**2 + 3*x + 2\n",
    "x0 = 0  # Let's start with an initial guess of x = 0\n",
    "result = minimize(objective, x0)\n",
    "print(result)"
   ]
  },
  {
   "cell_type": "markdown",
   "metadata": {},
   "source": [
    "Let’s go through the code line by line:\n",
    "\n",
    "- **`objective(x)`**: This is the function we are minimizing, and it takes a single input `x`. It returns \\( x^2 + 3x + 2 \\).\n",
    "- **`x0 = 0`**: This is the starting point (our initial guess) for the optimizer.\n",
    "- **`minimize(objective, x0)`**: The `minimize()` function tries to find the value of `x` where the `objective()` function is the smallest.\n",
    "\n",
    "After running the code, SciPy will tell you the value of `x` where the function reaches its minimum. The output might look something like:"
   ]
  },
  {
   "cell_type": "markdown",
   "metadata": {},
   "source": [
    "SciPy tells us that the optimal value of x is approximately -1.5, which is the point where the function has its minimum."
   ]
  },
  {
   "cell_type": "markdown",
   "metadata": {},
   "source": [
    "We started with the function \\( f(x) = x^2 + 3x + 2 \\). SciPy's minimize() function tries different values of x and sees which one makes the function smallest. It tells us that at \\( x = -1.5 \\), the function reaches its lowest value."
   ]
  },
  {
   "cell_type": "markdown",
   "metadata": {},
   "source": [
    "### Types of Optimizers in SciPy\n",
    "\n",
    "Now that we know how to use the `minimize()` function, let’s look at the **different methods** SciPy uses to minimize functions. These methods are different techniques that SciPy uses behind the scenes to find the minimum value. You can specify the method like this:"
   ]
  },
  {
   "cell_type": "code",
   "execution_count": 2,
   "metadata": {},
   "outputs": [],
   "source": [
    "result = minimize(objective, x0, method='BFGS')  # Using the BFGS method"
   ]
  },
  {
   "cell_type": "markdown",
   "metadata": {},
   "source": [
    "Here are some common methods:\n",
    "\n",
    "1. **Nelder-Mead**: Best for non-smooth functions (simplex method).\n",
    "2. **BFGS**: A quasi-Newton method, useful for smooth functions.\n",
    "3. **CG**: Conjugate gradient method.\n",
    "4. **L-BFGS-B**: Like BFGS but supports bounds (constraints on the values of `x`).\n",
    "5. **TNC**: Truncated Newton method.\n",
    "\n",
    "Each method has its own advantages, depending on the problem."
   ]
  },
  {
   "cell_type": "markdown",
   "metadata": {},
   "source": [
    "### 1. **Basic Unconstrained Optimization**\n",
    "\n",
    "Let’s start with a **simple quadratic function**, which is an easy-to-understand example. We will minimize the following function:\n",
    "\n",
    "\\[\n",
    "f(x) = x^2 + 4x + 6\n",
    "\\]"
   ]
  },
  {
   "cell_type": "code",
   "execution_count": 3,
   "metadata": {},
   "outputs": [
    {
     "name": "stdout",
     "output_type": "stream",
     "text": [
      "Optimal value of x: [-2.00000002]\n",
      "Minimum value of the function: 2.0\n"
     ]
    }
   ],
   "source": [
    "from scipy.optimize import minimize\n",
    "\n",
    "# Objective function\n",
    "def objective(x):\n",
    "    return x**2 + 4*x + 6\n",
    "\n",
    "# Initial guess\n",
    "x0 = 0  # Start with an initial guess of x = 0\n",
    "\n",
    "# Minimize the objective function\n",
    "result = minimize(objective, x0)\n",
    "\n",
    "print(\"Optimal value of x:\", result.x)\n",
    "print(\"Minimum value of the function:\", result.fun)"
   ]
  },
  {
   "cell_type": "markdown",
   "metadata": {},
   "source": [
    "- **Objective Function**: \\( f(x) = x^2 + 4x + 6 \\).\n",
    "- The goal is to find the value of `x` that gives the minimum value of the function.\n",
    "- **Output**:\n",
    "    - The optimal value of `x`.\n",
    "    - The function value at that minimum."
   ]
  },
  {
   "cell_type": "code",
   "execution_count": null,
   "metadata": {},
   "outputs": [],
   "source": []
  }
 ],
 "metadata": {
  "kernelspec": {
   "display_name": "Python 3",
   "language": "python",
   "name": "python3"
  },
  "language_info": {
   "codemirror_mode": {
    "name": "ipython",
    "version": 3
   },
   "file_extension": ".py",
   "mimetype": "text/x-python",
   "name": "python",
   "nbconvert_exporter": "python",
   "pygments_lexer": "ipython3",
   "version": "3.12.5"
  }
 },
 "nbformat": 4,
 "nbformat_minor": 2
}
