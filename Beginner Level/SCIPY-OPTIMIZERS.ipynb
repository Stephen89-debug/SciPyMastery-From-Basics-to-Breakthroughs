{
 "cells": [
  {
   "cell_type": "markdown",
   "metadata": {},
   "source": [
    "### What is Optimization?\n",
    "\n",
    "**Optimization** means finding the \"best\" solution among a set of possible options. Imagine you want to find the lowest point of a hill (minimization) or the highest point of a mountain (maximization). In mathematical terms, we often try to find the minimum or maximum value of a function."
   ]
  },
  {
   "cell_type": "markdown",
   "metadata": {},
   "source": []
  }
 ],
 "metadata": {
  "language_info": {
   "name": "python"
  }
 },
 "nbformat": 4,
 "nbformat_minor": 2
}
