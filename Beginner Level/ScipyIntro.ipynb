{
 "cells": [
  {
   "cell_type": "markdown",
   "metadata": {},
   "source": [
    "### **Introduction to SciPy**\n",
    "\n",
    "### **1. What is SciPy?**\n",
    "- **Definition:** SciPy is an open-source scientific computing library in Python, built on top of **NumPy**.\n",
    "- **Purpose:** It provides a wide range of functions for mathematical calculations, scientific computing, and engineering problems.\n",
    "- **Use Cases:** Commonly used in fields such as physics, chemistry, biology, engineering, and finance.\n",
    "\n",
    "### **2. Overview of SciPy**\n",
    "- **Core Features:**\n",
    "  - Advanced mathematical functions (e.g., optimization, integration).\n",
    "  - Special functions (e.g., Bessel functions).\n",
    "  - Statistical distributions and tests.\n",
    "  - Linear algebra functions (e.g., matrix operations).\n",
    "  \n",
    "### **3. Installation**\n",
    "- **Via Pip:**\n",
    "  Open your command line or terminal and run:\n",
    "  ```bash\n",
    "  pip install scipy\n",
    "  ```\n",
    "- **Setting Up the Environment:**\n",
    "  - **Jupyter Notebook:** For interactive coding.\n",
    "    ```bash\n",
    "    jupyter notebook\n",
    "    ```\n",
    "  - **VS Code:** Use the Python extension for a rich coding experience.\n",
    "\n",
    "### **4. Core Components**\n",
    "- **Key Sub-packages:**\n",
    "  - **`scipy.special`:** Special mathematical functions.\n",
    "  - **`scipy.integrate`:** Numerical integration functions.\n",
    "  - **`scipy.optimize`:** Optimization algorithms.\n",
    "  - **`scipy.stats`:** Statistical functions.\n",
    "  - **`scipy.linalg`:** Linear algebra functions.\n",
    "\n",
    "### **5. Why Use SciPy?**\n",
    "- **Efficiency:** Faster computations compared to manual implementations.\n",
    "- **Rich Functionality:** Offers tools not available in NumPy.\n",
    "- **Real-World Applications:**\n",
    "  - Physics simulations.\n",
    "  - Financial modeling.\n",
    "  - Machine learning.\n",
    "\n",
    "### **6. SciPy vs. NumPy**\n",
    "| Feature        | NumPy                  | SciPy                  |\n",
    "|----------------|-----------------------|-----------------------|\n",
    "| Purpose        | Basic array operations | Advanced scientific tasks |\n",
    "| Functionality  | Array manipulation     | Optimization, integration |\n",
    "| Use Case       | Basic numerical tasks  | Complex scientific computations |\n"
   ]
  },
  {
   "cell_type": "markdown",
   "metadata": {},
   "source": [
    "**1. Introduction to SciPy**\n",
    "\n",
    "SciPy is built on NumPy and extends its capabilities. It is used for scientific and technical computing. You’ll often use it in areas like optimization, integration, interpolation, eigenvalue problems, and more.\n",
    "\n",
    "### **2. SciPy Sub-packages**\n",
    "\n",
    "You’ll find various modules within SciPy, each focused on a specific type of computation:\n",
    "\n",
    "- **scipy.constants**: Physical and mathematical constants\n",
    "- **scipy.optimize**: Optimization techniques\n",
    "- **scipy.stats**: Statistical functions\n",
    "- **scipy.linalg**: Linear algebra functions\n",
    "- **scipy.fftpack**: Fourier transforms\n",
    "- **scipy.signal**: Signal processing tools\n",
    "- **scipy.sparse**: Sparse matrix handling\n",
    "- **scipy.special**: Special mathematical functions\n",
    "\n",
    "### **3. Key Sections to Learn:**\n",
    "\n",
    "### **a. SciPy Constants**\n",
    "\n",
    "- SciPy provides a set of mathematical and physical constants."
   ]
  },
  {
   "cell_type": "code",
   "execution_count": 14,
   "metadata": {},
   "outputs": [
    {
     "name": "stdout",
     "output_type": "stream",
     "text": [
      "3.141592653589793\n",
      "9.80665\n"
     ]
    }
   ],
   "source": [
    "from scipy import constants\n",
    "print(constants.pi)  # Prints the value of pi\n",
    "print(constants.g)    # Gravitational constant"
   ]
  },
  {
   "cell_type": "markdown",
   "metadata": {},
   "source": [
    "### **b. SciPy Optimization**\n",
    "\n",
    "- Optimization is the process of finding a minimum or maximum value of a function."
   ]
  },
  {
   "cell_type": "code",
   "execution_count": 15,
   "metadata": {},
   "outputs": [
    {
     "name": "stdout",
     "output_type": "stream",
     "text": [
      "  message: Optimization terminated successfully.\n",
      "  success: True\n",
      "   status: 0\n",
      "      fun: 3.750000000000001\n",
      "        x: [-2.500e+00]\n",
      "      nit: 2\n",
      "      jac: [-5.960e-08]\n",
      " hess_inv: [[ 5.000e-01]]\n",
      "     nfev: 6\n",
      "     njev: 3\n"
     ]
    }
   ],
   "source": [
    "from scipy.optimize import minimize\n",
    "\n",
    "def objective(x):\n",
    "    return x**2 + 5*x + 10\n",
    "\n",
    "result = minimize(objective, x0=0)\n",
    "print(result)  # Gives the minimum value of the function"
   ]
  },
  {
   "cell_type": "code",
   "execution_count": 24,
   "metadata": {},
   "outputs": [
    {
     "name": "stdout",
     "output_type": "stream",
     "text": [
      " message: The solution converged.\n",
      " success: True\n",
      "  status: 1\n",
      "     fun: [ 0.000e+00]\n",
      "       x: [-7.391e-01]\n",
      "  method: hybr\n",
      "    nfev: 11\n",
      "    fjac: [[-1.000e+00]]\n",
      "       r: [-1.674e+00]\n",
      "     qtf: [-2.668e-13]\n"
     ]
    },
    {
     "name": "stderr",
     "output_type": "stream",
     "text": [
      "C:\\Users\\Lenovo\\AppData\\Local\\Temp\\ipykernel_11856\\4080174460.py:5: DeprecationWarning: Conversion of an array with ndim > 0 to a scalar is deprecated, and will error in future. Ensure you extract a single element from your array before performing this operation. (Deprecated NumPy 1.25.)\n",
      "  return x + cos(x)\n"
     ]
    }
   ],
   "source": [
    "from scipy.optimize import root\n",
    "from math import cos\n",
    "\n",
    "def func(x):\n",
    "    return x + cos(x)\n",
    "my = root(func, 0)\n",
    "print(my)"
   ]
  },
  {
   "cell_type": "markdown",
   "metadata": {},
   "source": [
    "### **c. SciPy Integration**\n",
    "\n",
    "- You can integrate functions using the `quad()` function."
   ]
  },
  {
   "cell_type": "code",
   "execution_count": 16,
   "metadata": {},
   "outputs": [
    {
     "name": "stdout",
     "output_type": "stream",
     "text": [
      "0.33333333333333337\n"
     ]
    }
   ],
   "source": [
    "from scipy import integrate\n",
    "\n",
    "def f(x):\n",
    "    return x**2\n",
    "\n",
    "result, error = integrate.quad(f, 0, 1)  # Integrates from 0 to 1\n",
    "print(result)  # Returns the area under the curve"
   ]
  },
  {
   "cell_type": "markdown",
   "metadata": {},
   "source": [
    "### **d. SciPy Interpolation**\n",
    "\n",
    "- Interpolation helps in estimating values between known data points."
   ]
  },
  {
   "cell_type": "code",
   "execution_count": 17,
   "metadata": {},
   "outputs": [
    {
     "name": "stdout",
     "output_type": "stream",
     "text": [
      "6.5\n"
     ]
    }
   ],
   "source": [
    "from scipy.interpolate import interp1d\n",
    "import numpy as np\n",
    "\n",
    "x = np.array([0, 1, 2, 3, 4])\n",
    "y = np.array([0, 1, 4, 9, 16])\n",
    "\n",
    "f = interp1d(x, y)\n",
    "print(f(2.5))  # Interpolates the value at x=2.5"
   ]
  },
  {
   "cell_type": "markdown",
   "metadata": {},
   "source": [
    "### **e. SciPy Linear Algebra**\n",
    "\n",
    "- Linear algebra is essential in machine learning and scientific computing."
   ]
  },
  {
   "cell_type": "code",
   "execution_count": 18,
   "metadata": {},
   "outputs": [
    {
     "name": "stdout",
     "output_type": "stream",
     "text": [
      "[-4.   4.5]\n"
     ]
    }
   ],
   "source": [
    "from scipy import linalg\n",
    "a = np.array([[1, 2], [3, 4]])\n",
    "b = np.array([5, 6])\n",
    "\n",
    "x = linalg.solve(a, b)  # Solves the linear equation system\n",
    "print(x)"
   ]
  },
  {
   "cell_type": "markdown",
   "metadata": {},
   "source": [
    "The SciPy `constants` module is a powerful and handy tool that provides access to a wide range of physical and mathematical constants that can be used in scientific calculations. Let's break down its features, functions, and how you can use them in detail.\n",
    "\n",
    "### Introduction to `scipy.constants`\n",
    "\n",
    "The `scipy.constants` module provides a large collection of physical constants (like the speed of light, gravitational constant, Planck’s constant, etc.) that are often required in scientific computations. Instead of hardcoding these constants, we can directly import and use them with `scipy.constants`.\n",
    "\n",
    "### Key Features of `scipy.constants`\n",
    "1. **Predefined Constants**: It includes predefined physical constants with their standard values in SI units.\n",
    "2. **Units Conversion**: The module also provides various functions to convert between different physical units (e.g., converting meters to inches, or degrees to radians).\n",
    "3. **Useful Functions**: Functions like `find()` help in searching for constants based on a keyword.\n",
    "\n",
    "### Getting Started with `scipy.constants`"
   ]
  }
 ],
 "metadata": {
  "kernelspec": {
   "display_name": "Python 3",
   "language": "python",
   "name": "python3"
  },
  "language_info": {
   "codemirror_mode": {
    "name": "ipython",
    "version": 3
   },
   "file_extension": ".py",
   "mimetype": "text/x-python",
   "name": "python",
   "nbconvert_exporter": "python",
   "pygments_lexer": "ipython3",
   "version": "3.12.5"
  }
 },
 "nbformat": 4,
 "nbformat_minor": 2
}
