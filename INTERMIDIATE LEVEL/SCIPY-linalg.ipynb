{
 "cells": [
  {
   "cell_type": "markdown",
   "metadata": {},
   "source": [
    "## scipy.linalg "
   ]
  },
  {
   "cell_type": "markdown",
   "metadata": {},
   "source": [
    "This module is like the toolkit for all matrix and linear algebra operations in SciPy, which helps you perform mathematical operations that are essential for data science, engineering, and advanced math."
   ]
  },
  {
   "cell_type": "markdown",
   "metadata": {},
   "source": [
    "### Linear Algebra (`scipy.linalg`)\n",
    "\n",
    "**Linear Algebra** is the branch of mathematics concerning linear equations, linear functions, and their representations through matrices and vector spaces. It forms the backbone for many fields such as data science, physics, engineering, computer science, and more. In Python, `scipy.linalg` is a module within SciPy that provides powerful functions for linear algebra tasks, similar to those found in MATLAB.\n",
    "\n",
    "**Why Use `scipy.linalg`?**\n",
    "- It is highly optimized and efficient for complex linear algebra operations.\n",
    "- It provides more robust and feature-rich functions compared to NumPy’s `linalg`.\n",
    "- It offers advanced operations such as matrix decomposition, solving linear systems, and eigenvalue computation.\n",
    "\n",
    "**How to Use `scipy.linalg`?**\n",
    "`scipy.linalg` can be used by importing it into your Python script. It provides functions for tasks like:\n",
    "- Matrix inversion\n",
    "- Computing determinants\n",
    "- Solving linear systems\n",
    "- Eigenvalues and eigenvectors\n",
    "- Matrix decompositions (LU, QR, SVD)\n",
    "\n",
    "**Basic Syntax**:\n",
    "```python\n",
    "from scipy import linalg\n",
    "import numpy as np\n",
    "A = np.array([[1, 2], [3, 4]])\n",
    "det_A = linalg.det(A)\n",
    "print(\"Determinant of A:\", det_A)\n",
    "```\n",
    "\n",
    "### Key Concepts in `scipy.linalg`\n",
    "Before we dive deeper, let's cover some foundational terms:\n",
    "1. **Matrix**: A two-dimensional array of numbers.\n",
    "2. **Determinant**: A scalar value that can be computed from the elements of a square matrix, giving insights into the properties of the matrix.\n",
    "3. **Inverse**: A matrix that, when multiplied by the original matrix, yields the identity matrix.\n",
    "4. **Eigenvalues and Eigenvectors**: Provide information about the transformation characteristics of a matrix.\n",
    "5. **Decompositions**: Breaking down a matrix into simpler, component matrices (e.g., LU, QR, SVD).\n",
    "\n",
    "### Why `scipy.linalg` Over NumPy's `linalg`?\n",
    "- **Performance**: `scipy.linalg` uses optimized algorithms that are faster for larger matrices.\n",
    "- **Feature Set**: It includes functions like `lstsq`, `qr`, `svd`, and more that are often used in advanced linear algebra applications.\n",
    "\n",
    "### Quick Overview of Important `scipy.linalg` Functions\n",
    "1. **`linalg.inv()`**: Computes the inverse of a matrix.\n",
    "2. **`linalg.det()`**: Computes the determinant of a matrix.\n",
    "3. **`linalg.solve()`**: Solves the linear equation \\( Ax = b \\) for \\( x \\).\n",
    "4. **`linalg.eig()`**: Finds the eigenvalues and eigenvectors of a matrix.\n",
    "5. **`linalg.svd()`**: Performs singular value decomposition.\n",
    "6. **`linalg.lu()`**: Computes the LU decomposition of a matrix.\n",
    "7. **`linalg.qr()`**: Computes the QR decomposition.\n",
    "\n",
    "These functions are the starting point for performing linear algebra computations in Python with SciPy."
   ]
  },
  {
   "cell_type": "markdown",
   "metadata": {},
   "source": [
    "### 1. **`scipy.linalg.inv`** (Matrix Inversion)\n",
    "\n",
    "Matrix inversion is like finding the \"reverse\" of a matrix. If you have a matrix $$( A ), its inverse ( A^{-1} )$$ satisfies the equation:\n",
    "\n",
    "$$[\n",
    "A \\times A^{-1} = I\n",
    "]$$\n",
    "\n",
    "where $$( I )$$ is the identity matrix (like 1 in scalar operations)."
   ]
  },
  {
   "cell_type": "code",
   "execution_count": 4,
   "metadata": {},
   "outputs": [
    {
     "name": "stdout",
     "output_type": "stream",
     "text": [
      "Original Matrix: [[1 2]\n",
      " [3 4]]\n",
      "Inverse Matrix: [[-2.   1. ]\n",
      " [ 1.5 -0.5]]\n",
      "Verification (A * A_inv): [[1.0000000e+00 0.0000000e+00]\n",
      " [8.8817842e-16 1.0000000e+00]]\n"
     ]
    }
   ],
   "source": [
    "import numpy as np\n",
    "from scipy.linalg import inv\n",
    "# here i am creating square matrix \n",
    "A = np.array([[1, 2], [3, 4]])\n",
    "# Inverse of matrix\n",
    "A_inv = inv(A)\n",
    "print(\"Original Matrix:\", A)\n",
    "print(\"Inverse Matrix:\", A_inv)\n",
    "# Varification \n",
    "print(\"Verification (A * A_inv):\", np.dot(A, A_inv))"
   ]
  },
  {
   "cell_type": "markdown",
   "metadata": {},
   "source": [
    "- **Identity Matrix**: Think of it as a matrix that doesn’t change another matrix when multiplied.\n",
    "- **Matrix Inversion**: Used to solve systems of linear equations, like $$( Ax = b ),$$ where finding $$( x )$$ can be done as $$( x = A^{-1} \\times b ).$$"
   ]
  },
  {
   "cell_type": "code",
   "execution_count": 5,
   "metadata": {},
   "outputs": [
    {
     "name": "stdout",
     "output_type": "stream",
     "text": [
      "Determinant of A: -2.0\n"
     ]
    }
   ],
   "source": [
    "from scipy.linalg import det\n",
    "det_A = det(A)\n",
    "print(\"Determinant of A:\", det_A)"
   ]
  },
  {
   "cell_type": "markdown",
   "metadata": {},
   "source": []
  }
 ],
 "metadata": {
  "kernelspec": {
   "display_name": "Python 3",
   "language": "python",
   "name": "python3"
  },
  "language_info": {
   "codemirror_mode": {
    "name": "ipython",
    "version": 3
   },
   "file_extension": ".py",
   "mimetype": "text/x-python",
   "name": "python",
   "nbconvert_exporter": "python",
   "pygments_lexer": "ipython3",
   "version": "3.11.9"
  }
 },
 "nbformat": 4,
 "nbformat_minor": 2
}
