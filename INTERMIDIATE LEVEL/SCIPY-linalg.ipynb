{
 "cells": [
  {
   "cell_type": "markdown",
   "metadata": {},
   "source": [
    "## scipy.linalg "
   ]
  },
  {
   "cell_type": "markdown",
   "metadata": {},
   "source": [
    "This module is like the toolkit for all matrix and linear algebra operations in SciPy, which helps you perform mathematical operations that are essential for data science, engineering, and advanced math."
   ]
  },
  {
   "cell_type": "markdown",
   "metadata": {},
   "source": [
    "### Linear Algebra (`scipy.linalg`)\n",
    "\n",
    "**Linear Algebra** is the branch of mathematics concerning linear equations, linear functions, and their representations through matrices and vector spaces. It forms the backbone for many fields such as data science, physics, engineering, computer science, and more. In Python, `scipy.linalg` is a module within SciPy that provides powerful functions for linear algebra tasks, similar to those found in MATLAB.\n",
    "\n",
    "**Why Use `scipy.linalg`?**\n",
    "- It is highly optimized and efficient for complex linear algebra operations.\n",
    "- It provides more robust and feature-rich functions compared to NumPy’s `linalg`.\n",
    "- It offers advanced operations such as matrix decomposition, solving linear systems, and eigenvalue computation.\n",
    "\n",
    "**How to Use `scipy.linalg`?**\n",
    "`scipy.linalg` can be used by importing it into your Python script. It provides functions for tasks like:\n",
    "- Matrix inversion\n",
    "- Computing determinants\n",
    "- Solving linear systems\n",
    "- Eigenvalues and eigenvectors\n",
    "- Matrix decompositions (LU, QR, SVD)\n",
    "\n",
    "**Basic Syntax**:\n",
    "```python\n",
    "from scipy import linalg\n",
    "import numpy as np\n",
    "A = np.array([[1, 2], [3, 4]])\n",
    "det_A = linalg.det(A)\n",
    "print(\"Determinant of A:\", det_A)\n",
    "```\n",
    "\n",
    "### Key Concepts in `scipy.linalg`\n",
    "Before we dive deeper, let's cover some foundational terms:\n",
    "1. **Matrix**: A two-dimensional array of numbers.\n",
    "2. **Determinant**: A scalar value that can be computed from the elements of a square matrix, giving insights into the properties of the matrix.\n",
    "3. **Inverse**: A matrix that, when multiplied by the original matrix, yields the identity matrix.\n",
    "4. **Eigenvalues and Eigenvectors**: Provide information about the transformation characteristics of a matrix.\n",
    "5. **Decompositions**: Breaking down a matrix into simpler, component matrices (e.g., LU, QR, SVD).\n",
    "\n",
    "### Why `scipy.linalg` Over NumPy's `linalg`?\n",
    "- **Performance**: `scipy.linalg` uses optimized algorithms that are faster for larger matrices.\n",
    "- **Feature Set**: It includes functions like `lstsq`, `qr`, `svd`, and more that are often used in advanced linear algebra applications.\n",
    "\n",
    "### Quick Overview of Important `scipy.linalg` Functions\n",
    "1. **`linalg.inv()`**: Computes the inverse of a matrix.\n",
    "2. **`linalg.det()`**: Computes the determinant of a matrix.\n",
    "3. **`linalg.solve()`**: Solves the linear equation \\( Ax = b \\) for \\( x \\).\n",
    "4. **`linalg.eig()`**: Finds the eigenvalues and eigenvectors of a matrix.\n",
    "5. **`linalg.svd()`**: Performs singular value decomposition.\n",
    "6. **`linalg.lu()`**: Computes the LU decomposition of a matrix.\n",
    "7. **`linalg.qr()`**: Computes the QR decomposition.\n",
    "\n",
    "These functions are the starting point for performing linear algebra computations in Python with SciPy."
   ]
  },
  {
   "cell_type": "markdown",
   "metadata": {},
   "source": [
    "### 1. **What is a Matrix Inverse?**\n",
    "\n",
    "The inverse of a matrix $( A )$ is denoted as $( A^{-1} )$. If a matrix $( A )$ has an inverse, then it satisfies:\n",
    "\n",
    "$[\n",
    "A \\times A^{-1} = A^{-1} \\times A = I\n",
    "]$\n",
    "\n",
    "where $( I )$ is the identity matrix of the same dimension as $( A )$. The identity matrix acts as the multiplicative identity in matrix multiplication, analogous to 1 in scalar arithmetic.\n",
    "\n",
    "**Conditions for a Matrix to Have an Inverse**:\n",
    "\n",
    "- The matrix must be **square** (i.e., number of rows = number of columns).\n",
    "- The **determinant** of the matrix must be **non-zero**. If the determinant is zero, the matrix is called **singular** and does not have an inverse."
   ]
  },
  {
   "cell_type": "markdown",
   "metadata": {},
   "source": [
    "### 2. **Applications of Matrix Inversion**\n",
    "\n",
    "Matrix inversion is used in:\n",
    "\n",
    "- Solving systems of linear equations $( Ax = b )$ where $( x = A^{-1} times b )$.\n",
    "- Linear transformations and transformations in computer graphics.\n",
    "- Statistical models, especially in calculating the weights in linear regression."
   ]
  },
  {
   "cell_type": "markdown",
   "metadata": {},
   "source": [
    "### **How to Compute the Inverse Using `scipy.linalg.inv()`**\n",
    "\n",
    "The `scipy.linalg.inv()` function makes it easy to compute the inverse of a matrix in Python. Here's how it works:"
   ]
  },
  {
   "cell_type": "code",
   "execution_count": 7,
   "metadata": {},
   "outputs": [
    {
     "name": "stdout",
     "output_type": "stream",
     "text": [
      "Original Matrix: [[1 2]\n",
      " [3 4]]\n",
      "Inverse Matrix: [[-2.   1. ]\n",
      " [ 1.5 -0.5]]\n",
      "A * A_inv: [[1.0000000e+00 0.0000000e+00]\n",
      " [8.8817842e-16 1.0000000e+00]]\n"
     ]
    }
   ],
   "source": [
    "from scipy.linalg import inv\n",
    "import numpy as np\n",
    "\n",
    "# Define a square matrix\n",
    "A = np.array([[1, 2], [3, 4]])\n",
    "\n",
    "# Compute the inverse\n",
    "A_inv = inv(A)\n",
    "\n",
    "print(\"Original Matrix:\", A)\n",
    "print(\"Inverse Matrix:\", A_inv)\n",
    "\n",
    "# Verification\n",
    "print(\"A * A_inv:\", np.dot(A, A_inv))"
   ]
  },
  {
   "cell_type": "markdown",
   "metadata": {},
   "source": [
    "- **Import Libraries**: We use `numpy` to create matrices and `scipy.linalg` for computing the inverse.\n",
    "- **Matrix Creation**: You define your matrix $( A )$ using `numpy.array`.\n",
    "- **Compute Inverse**: `inv(A)` computes the inverse.\n",
    "- **Verification**: To check if $( A \\times A^{-1} )$ equals the identity matrix, you can use `np.dot()` for matrix multiplication"
   ]
  },
  {
   "cell_type": "markdown",
   "metadata": {},
   "source": [
    "$$[\n",
    "A = \\begin{bmatrix} 2 & 3 \\\\ 1 & 4 \\end{bmatrix}\n",
    "]$$"
   ]
  },
  {
   "cell_type": "code",
   "execution_count": 9,
   "metadata": {},
   "outputs": [
    {
     "name": "stdout",
     "output_type": "stream",
     "text": [
      "Original Matrix A: [[2 3]\n",
      " [1 4]]\n",
      "Inverse Matrix A_inv: [[ 0.8 -0.6]\n",
      " [-0.2  0.4]]\n",
      "Verification (A * A_inv): [[ 1.00000000e+00 -1.11022302e-16]\n",
      " [ 0.00000000e+00  1.00000000e+00]]\n"
     ]
    }
   ],
   "source": [
    "A = np.array([[2, 3], [1, 4]])\n",
    "# here computing inverse\n",
    "A_inv = inv(A)\n",
    "# orginal matrix \n",
    "print(\"Original Matrix A:\", A)\n",
    "# inverse matrix \n",
    "print(\"Inverse Matrix A_inv:\", A_inv)\n",
    "# varification \n",
    "result = np.dot(A, A_inv)\n",
    "print(\"Verification (A * A_inv):\", result)"
   ]
  },
  {
   "cell_type": "markdown",
   "metadata": {},
   "source": [
    "- When we multiply $( A )$ and $( A^{-1} )$, the output should be the identity matrix $( I )$, which confirms the correctness of the inverse.\n",
    "- The small floating-point inaccuracies $(e.g., ( 1.00000001 )$ instead of $( 1 ))$ are due to the nature of computer arithmetic."
   ]
  },
  {
   "cell_type": "markdown",
   "metadata": {},
   "source": [
    "- **Singular Matrix**: If you try to compute the inverse of a singular matrix (determinant = 0), `inv()` will raise an error.\n",
    "- **Numerical Stability**: For very large matrices or matrices with high condition numbers (almost singular), the results might not be reliable due to numerical instability. Use `scipy.linalg.pinv()` (pseudo-inverse) for more robust results in such cases."
   ]
  },
  {
   "cell_type": "code",
   "execution_count": 10,
   "metadata": {},
   "outputs": [
    {
     "name": "stdout",
     "output_type": "stream",
     "text": [
      "Matrix is singular, and its inverse cannot be computed.\n"
     ]
    }
   ],
   "source": [
    "B = np.array([[1, 2], [2, 4]])\n",
    "try:\n",
    "    B_inv = inv(B)\n",
    "except np.linalg.LinAlgError:\n",
    "    print(\"Matrix is singular, and its inverse cannot be computed.\")"
   ]
  },
  {
   "cell_type": "markdown",
   "metadata": {},
   "source": [
    "- Inverting a matrix can be thought of as reversing a transformation. If applying matrix $( A )$ moves a vector in space in a certain way, applying $( A^{-1} )$ will move it back to its original position.\n",
    "\n",
    "This detailed walkthrough should give you a strong understanding of how to compute the matrix inverse using `scipy.linalg.inv()`, when to use it, and its practical applications."
   ]
  },
  {
   "cell_type": "markdown",
   "metadata": {},
   "source": [
    "### `scipy.linalg.det()`\n",
    "\n",
    "The **determinant** is a fundamental concept in linear algebra, crucial for understanding matrix properties. In this explanation, we’ll break down what a determinant is, why it is important, and how to compute it using `scipy.linalg.det()` with clear examples. I'll explain this in a way that makes it intuitive"
   ]
  },
  {
   "cell_type": "markdown",
   "metadata": {},
   "source": [
    "The determinant of a square matrix $( A )$ (denoted as $( \\det(A) )$ or |A|) is a scalar value that provides significant insights into the matrix's properties. It is used to:\n",
    "\n",
    "- Determine if a matrix is **invertible** (a matrix is invertible if and only if its determinant is non-zero).\n",
    "- Indicate if a matrix transformation preserves the area or volume in space.\n",
    "- Assess the **singularity** of a matrix (if $(|A| = 0)$, the matrix is singular and non-invertible)."
   ]
  },
  {
   "cell_type": "markdown",
   "metadata": {},
   "source": [
    "> # Properties of Determinants \n",
    "- **Non-Zero Determinant**: If $(|A| \\neq 0)$, the matrix $( A )$ is invertible.\n",
    "- **Zero Determinant**: If $(|A| = 0)$, the matrix $( A )$ is singular (non-invertible).\n",
    "- **Determinant of Identity Matrix**: $(\\det(I) = 1)$, where $( I )$ is the identity matrix.\n",
    "- **Effect on Area/Volume**: The absolute value of the determinant represents how the transformation defined by the matrix scales space (e.g., an area or volume)."
   ]
  },
  {
   "cell_type": "markdown",
   "metadata": {},
   "source": [
    "### **Geometric Intuition**\n",
    "\n",
    "Imagine a 2x2 matrix:\n",
    "$[\n",
    "A = \\begin{bmatrix} a & b \\\\ c & d \\end{bmatrix}\n",
    "]$\n",
    "\n",
    "The determinant can be visualized as the area of the parallelogram formed by the column vectors of the matrix. If the determinant is zero, the area collapses to a line, indicating that the matrix transformation flattens space."
   ]
  },
  {
   "cell_type": "markdown",
   "metadata": {},
   "source": [
    "### **Formula for Determinant Calculation**\n",
    "\n",
    "For a **2x2 matrix**:\n",
    "$[\n",
    "\\det(A) = ad - bc\n",
    "]$\n",
    "\n",
    "For a **3x3 matrix**:\n",
    "$[\n",
    "\\det(A) = a(ei − fh) − b(di − fg) + c(dh − eg)\n",
    "]$\n",
    "\n",
    "This pattern extends to larger matrices using cofactor expansion."
   ]
  },
  {
   "cell_type": "code",
   "execution_count": 11,
   "metadata": {},
   "outputs": [
    {
     "name": "stdout",
     "output_type": "stream",
     "text": [
      "Determinant of A: -2.0\n"
     ]
    }
   ],
   "source": [
    "from scipy.linalg import det\n",
    "import numpy as np\n",
    "# Defining square matrix \n",
    "A = np.array([[4, 2], [3, 1]])\n",
    "# Computing determinants \n",
    "det_A = det(A)\n",
    "\n",
    "print(\"Determinant of A:\", det_A)"
   ]
  },
  {
   "cell_type": "markdown",
   "metadata": {},
   "source": [
    "\n",
    "**Matrix**:\n",
    "$$[\n",
    "A = \\begin{bmatrix} 3 & 4 \\\\ 2 & 5 \\end{bmatrix}\n",
    "]$$\n",
    "\n",
    "**Determinant Calculation**:\n",
    "$$[\n",
    "\\det(A) = (3 \\times 5) - (4 \\times 2) = 15 - 8 = 7\n",
    "]$$"
   ]
  },
  {
   "cell_type": "code",
   "execution_count": 12,
   "metadata": {},
   "outputs": [
    {
     "name": "stdout",
     "output_type": "stream",
     "text": [
      "Determinant of A: 7.0\n"
     ]
    }
   ],
   "source": [
    "from scipy.linalg import det\n",
    "import numpy as np\n",
    "# matrix \n",
    "A = np.array([[3, 4], [2, 5]])\n",
    "# computing determinant\n",
    "det_A = det(A)\n",
    "\n",
    "print(\"Determinant of A:\", det_A)"
   ]
  },
  {
   "cell_type": "markdown",
   "metadata": {},
   "source": [
    "- **Checking Invertibility**: A matrix can only be inverted if $(|A| \\neq 0)$.\n",
    "- **Solving Systems of Linear Equations**: Determinants are used in Cramer's rule.\n",
    "- **Transformations**: In computer graphics, determinants help determine if a transformation (e.g., rotation, scaling) preserves orientation or changes it (flips)."
   ]
  },
  {
   "cell_type": "markdown",
   "metadata": {},
   "source": [
    "- **Numerical Stability**: For large matrices, direct computation of the determinant may lead to numerical instability. However, `scipy.linalg.det()` is optimized for good performance.\n",
    "- **Complex Numbers**: `scipy.linalg.det()` can handle complex-valued matrices, returning the complex determinant if needed."
   ]
  },
  {
   "cell_type": "code",
   "execution_count": 13,
   "metadata": {},
   "outputs": [
    {
     "name": "stdout",
     "output_type": "stream",
     "text": [
      "Determinant of 3x3 Matrix A: 54.0\n"
     ]
    }
   ],
   "source": [
    "A = np.array([[2, 3, 1],\n",
    "              [4, 1, 5],\n",
    "              [6, 0, 3]])\n",
    "\n",
    "det_A = det(A)\n",
    "print(\"Determinant of 3x3 Matrix A:\", det_A)"
   ]
  },
  {
   "cell_type": "markdown",
   "metadata": {},
   "source": [
    "In this example, the determinant computation involves expanding the matrix using the cofactor method or applying efficient algorithms under the hood with SciPy."
   ]
  }
 ],
 "metadata": {
  "kernelspec": {
   "display_name": "Python 3",
   "language": "python",
   "name": "python3"
  },
  "language_info": {
   "codemirror_mode": {
    "name": "ipython",
    "version": 3
   },
   "file_extension": ".py",
   "mimetype": "text/x-python",
   "name": "python",
   "nbconvert_exporter": "python",
   "pygments_lexer": "ipython3",
   "version": "3.11.9"
  }
 },
 "nbformat": 4,
 "nbformat_minor": 2
}
